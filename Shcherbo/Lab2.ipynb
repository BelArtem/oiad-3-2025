{
 "cells": [
  {
   "cell_type": "code",
   "execution_count": 395,
   "id": "c58c2c72-aa6e-4e1a-8e58-7d6ed98b3c65",
   "metadata": {},
   "outputs": [
    {
     "data": {
      "text/plain": [
       "'/Users/soul/.ssh/oiad-3-2025/.venv/bin/python3.11'"
      ]
     },
     "execution_count": 395,
     "metadata": {},
     "output_type": "execute_result"
    }
   ],
   "source": [
    "import sys\n",
    "sys.executable"
   ]
  },
  {
   "cell_type": "markdown",
   "id": "fece5318-2936-43ff-9a8d-bfd506cfa74f",
   "metadata": {},
   "source": [
    "### Входные данные"
   ]
  },
  {
   "cell_type": "code",
   "execution_count": 360,
   "id": "371eb006-7b61-4456-95b1-b99d4769b779",
   "metadata": {},
   "outputs": [],
   "source": [
    "import pandas as pd\n",
    "import numpy as np\n",
    "from scipy import stats\n",
    "from scipy.stats import t, norm, rankdata, fisher_exact \n",
    "import matplotlib.pyplot as plt\n",
    "from math import sqrt, log, tanh, atanh"
   ]
  },
  {
   "cell_type": "code",
   "execution_count": 361,
   "id": "490a0aab-a7dd-4900-9b7f-bd02927093fa",
   "metadata": {},
   "outputs": [],
   "source": [
    "data_path = \"../datasets/students_simple.csv\""
   ]
  },
  {
   "cell_type": "code",
   "execution_count": 362,
   "id": "3689ed42-ba98-4bfd-b105-b032a6447d3e",
   "metadata": {},
   "outputs": [
    {
     "name": "stdout",
     "output_type": "stream",
     "text": [
      "   height  mass  income   iq  pages  age    bmi  work_exp  friends  test_time\n",
      "0     159    45     430   95     24   20  3.533        26        5        8.5\n",
      "1     160    61     640  115     32   25  2.623        63        7        6.2\n",
      "2     161    56     610  111     24   28  2.875        94       10        6.8\n",
      "3     162    48     330   97     24   19  3.375        16        4       12.0\n",
      "4     162    54     420  105     60   23  3.000        49        2        7.5\n"
     ]
    }
   ],
   "source": [
    "dataFrame = pd.read_csv(data_path)\n",
    "print(dataFrame.head())"
   ]
  },
  {
   "cell_type": "code",
   "execution_count": 363,
   "id": "a4c987e7-ac85-4c17-bd56-be51c27e617f",
   "metadata": {},
   "outputs": [
    {
     "data": {
      "text/plain": [
       "(4, 6)"
      ]
     },
     "execution_count": 363,
     "metadata": {},
     "output_type": "execute_result"
    }
   ],
   "source": [
    "N = 29\n",
    "N1 = N % 5\n",
    "N2 = (N ** 2) % 5 + 5\n",
    "N1, N2"
   ]
  },
  {
   "cell_type": "code",
   "execution_count": 364,
   "id": "021200fb-bf37-4185-9571-0639e016c20e",
   "metadata": {},
   "outputs": [
    {
     "data": {
      "text/plain": [
       "0     24\n",
       "1     32\n",
       "2     24\n",
       "3     24\n",
       "4     60\n",
       "5     16\n",
       "6     90\n",
       "7     24\n",
       "8     48\n",
       "9     24\n",
       "10    16\n",
       "11    48\n",
       "12    32\n",
       "13    48\n",
       "14    64\n",
       "15    48\n",
       "16    90\n",
       "17    48\n",
       "18    32\n",
       "19    60\n",
       "Name: pages, dtype: int64"
      ]
     },
     "execution_count": 364,
     "metadata": {},
     "output_type": "execute_result"
    }
   ],
   "source": [
    "x = dataFrame.iloc[:, N1]\n",
    "x"
   ]
  },
  {
   "cell_type": "code",
   "execution_count": 365,
   "id": "303a3503-ea94-43b3-99b3-19ec8f36764b",
   "metadata": {},
   "outputs": [
    {
     "data": {
      "text/plain": [
       "0     3.533\n",
       "1     2.623\n",
       "2     2.875\n",
       "3     3.375\n",
       "4     3.000\n",
       "5     2.828\n",
       "6     3.255\n",
       "7     2.726\n",
       "8     2.429\n",
       "9     2.361\n",
       "10    2.342\n",
       "11    2.672\n",
       "12    2.356\n",
       "13    2.559\n",
       "14    2.173\n",
       "15    2.095\n",
       "16    2.342\n",
       "17    2.011\n",
       "18    2.691\n",
       "19    2.021\n",
       "Name: bmi, dtype: float64"
      ]
     },
     "execution_count": 365,
     "metadata": {},
     "output_type": "execute_result"
    }
   ],
   "source": [
    "y = dataFrame.iloc[:, N2]\n",
    "y"
   ]
  },
  {
   "cell_type": "code",
   "execution_count": 366,
   "id": "cd55700f-439f-463d-ab8a-a8e78fc8fe7c",
   "metadata": {},
   "outputs": [
    {
     "data": {
      "text/plain": [
       "np.int64(20)"
      ]
     },
     "execution_count": 366,
     "metadata": {},
     "output_type": "execute_result"
    }
   ],
   "source": [
    "x.count()"
   ]
  },
  {
   "cell_type": "code",
   "execution_count": 367,
   "id": "3c9f0552-78cb-46ae-9f5c-903720d4741e",
   "metadata": {},
   "outputs": [],
   "source": [
    "n = 20"
   ]
  },
  {
   "cell_type": "markdown",
   "id": "bdd5c419-4dfe-46ff-b1ce-be891b52c78f",
   "metadata": {},
   "source": [
    "### 1. Расчет корреляций"
   ]
  },
  {
   "cell_type": "code",
   "execution_count": 368,
   "id": "6cb38991-246b-412f-bec4-e6de9df8ec9d",
   "metadata": {},
   "outputs": [],
   "source": [
    "x_mean = np.mean(x)\n",
    "y_mean = np.mean(y)"
   ]
  },
  {
   "cell_type": "markdown",
   "id": "56ecfe1b-2bc6-4ea4-b60e-e483c500f697",
   "metadata": {},
   "source": [
    "**1. Фехнера**"
   ]
  },
  {
   "cell_type": "markdown",
   "id": "47980330-338c-4c5a-b4d4-7c1d3d5ae5b2",
   "metadata": {},
   "source": [
    "$$ K = \\frac{ \\sum_{i=1}^{n} [sign(x_i - \\overline{x}) = sign(y_i - \\overline{y})] - [sign(x_i - \\overline{x}) \\ne sign(y_i - \\overline{y})] }{n} $$"
   ]
  },
  {
   "cell_type": "code",
   "execution_count": 369,
   "id": "a4b64719-79f9-4fa2-a9eb-4e3713a3301a",
   "metadata": {},
   "outputs": [],
   "source": [
    "x_sign = np.sign(x - x_mean)\n",
    "y_sign = np.sign(y - y_mean)"
   ]
  },
  {
   "cell_type": "code",
   "execution_count": 370,
   "id": "9c7bf53d-9148-48cc-87df-eca0e8e26d53",
   "metadata": {},
   "outputs": [],
   "source": [
    "same = np.sum(x_sign == y_sign)\n",
    "diff = np.sum(x_sign != y_sign) "
   ]
  },
  {
   "cell_type": "code",
   "execution_count": 371,
   "id": "f10680d5-05ff-4046-a143-8e474ed58e41",
   "metadata": {},
   "outputs": [
    {
     "data": {
      "text/plain": [
       "np.float64(-0.4)"
      ]
     },
     "execution_count": 371,
     "metadata": {},
     "output_type": "execute_result"
    }
   ],
   "source": [
    "K_fechner = (same - diff) / n\n",
    "K_fechner"
   ]
  },
  {
   "cell_type": "markdown",
   "id": "5e4f0e4e-a9c0-4ddf-8371-5da3d6901528",
   "metadata": {},
   "source": [
    "**2. Пирсона + доверительный интервал**"
   ]
  },
  {
   "cell_type": "markdown",
   "id": "5260b471-45fc-482d-a4ae-20e0a666dd2e",
   "metadata": {},
   "source": [
    "$$ \\text{cov}(x, y) = \\frac{\\sum_{i=1}^{n} (x_i - \\overline{x})(y_i - \\overline{y})}{n-1} $$\n",
    "\n",
    "$$ K = \\frac{\\text{cov}(x, y)}{S_x S_y} $$\n",
    "\n",
    "$$ S_x^2 = \\frac{\\sum_{i=1}^n (x_i - \\overline{x})^2}{n-1}, \\quad S_y^2 = \\frac{\\sum_{i=1}^n (y_i - \\overline{y})^2}{n-1} $$\n",
    "\n",
    "$$ T = \\frac{K \\sqrt{n-2}}{\\sqrt{1 - K^2}} $$"
   ]
  },
  {
   "cell_type": "code",
   "execution_count": 372,
   "id": "f4f90e9f-21e7-4f8e-a0ad-870fa5d67133",
   "metadata": {},
   "outputs": [],
   "source": [
    "cov = np.sum((x - x_mean)*(y - y_mean)) / (n - 1)\n",
    "Sx = np.sqrt(np.sum((x - x_mean)**2) / (n - 1))\n",
    "Sy = np.sqrt(np.sum((y - y_mean)**2) / (n - 1))"
   ]
  },
  {
   "cell_type": "code",
   "execution_count": 373,
   "id": "594287d1-4e50-42bd-aa89-419de23aa091",
   "metadata": {},
   "outputs": [
    {
     "data": {
      "text/plain": [
       "np.float64(-0.1794973280072121)"
      ]
     },
     "execution_count": 373,
     "metadata": {},
     "output_type": "execute_result"
    }
   ],
   "source": [
    "K_pearson = cov / (Sx * Sy)\n",
    "K_pearson"
   ]
  },
  {
   "cell_type": "code",
   "execution_count": 374,
   "id": "903d1780-472a-4100-b09c-496b31d9d916",
   "metadata": {},
   "outputs": [
    {
     "data": {
      "text/plain": [
       "np.float64(-0.7741154941595184)"
      ]
     },
     "execution_count": 374,
     "metadata": {},
     "output_type": "execute_result"
    }
   ],
   "source": [
    "T = K_pearson * np.sqrt(n - 2) / np.sqrt(1 - K_pearson**2)\n",
    "T"
   ]
  },
  {
   "cell_type": "code",
   "execution_count": 394,
   "id": "05013d59-1706-454c-8604-cca674e3aa54",
   "metadata": {},
   "outputs": [
    {
     "name": "stdout",
     "output_type": "stream",
     "text": [
      "-0.5762461319405012 0.285718440751068\n"
     ]
    }
   ],
   "source": [
    "alpha = 0.05\n",
    "\n",
    "# Fisher z-преобразование\n",
    "z = 0.5 * np.log((1 + K_pearson) / (1 - K_pearson))\n",
    "se = 1 / np.sqrt(n - 3)\n",
    "\n",
    "z_crit = stats.norm.ppf(1 - alpha/2)  \n",
    "\n",
    "z_lower = z - z_crit * se\n",
    "z_upper = z + z_crit * se\n",
    "\n",
    "r_lower = (np.exp(2*z_lower) - 1) / (np.exp(2*z_lower) + 1)\n",
    "r_upper = (np.exp(2*z_upper) - 1) / (np.exp(2*z_upper) + 1)\n",
    "\n",
    "print(r_lower, r_upper)"
   ]
  },
  {
   "cell_type": "markdown",
   "id": "563f5885-f74f-47ba-8d14-357677b8a248",
   "metadata": {},
   "source": [
    "**3. Спирмена**"
   ]
  },
  {
   "cell_type": "code",
   "execution_count": 376,
   "id": "a2c43a48-0544-4a00-9fa6-6e24d592c293",
   "metadata": {},
   "outputs": [],
   "source": [
    "Rx = rankdata(x)\n",
    "Ry = rankdata(y)"
   ]
  },
  {
   "cell_type": "code",
   "execution_count": 377,
   "id": "13e8b89d-46c4-421e-892f-e018b7027dec",
   "metadata": {},
   "outputs": [],
   "source": [
    "Rx_mean = np.mean(Rx)\n",
    "Ry_mean = np.mean(Ry)"
   ]
  },
  {
   "cell_type": "code",
   "execution_count": 378,
   "id": "28f9d6ab-3d40-4a66-bff2-96601c62959e",
   "metadata": {},
   "outputs": [],
   "source": [
    "numerator = np.sum((Rx - Rx_mean) * (Ry - Ry_mean))\n",
    "denominator = np.sqrt(np.sum((Rx - Rx_mean)**2) * np.sum((Ry - Ry_mean)**2))"
   ]
  },
  {
   "cell_type": "code",
   "execution_count": 379,
   "id": "022aae0b-fbdd-455f-bda4-ec798ce97a43",
   "metadata": {},
   "outputs": [
    {
     "data": {
      "text/plain": [
       "np.float64(-0.3239399782654808)"
      ]
     },
     "execution_count": 379,
     "metadata": {},
     "output_type": "execute_result"
    }
   ],
   "source": [
    "K_spearman = numerator / denominator\n",
    "K_spearman"
   ]
  },
  {
   "cell_type": "markdown",
   "id": "bf11deb1-7bb9-4ea3-92f0-c8ca4a4714e0",
   "metadata": {},
   "source": [
    "**4. Кенделла**"
   ]
  },
  {
   "cell_type": "markdown",
   "id": "65052eb5-0e07-473d-bff5-64ca3192d59e",
   "metadata": {},
   "source": [
    "$$ K = 1 - \\frac{4}{n (n - 1)} \n",
    "\\sum_{i=1}^{n-1} \n",
    "\\sum_{j=i+1}^{n} \n",
    "\\big[ [x_i < x_j] \\ne [y_i < y_j] \\big] $$"
   ]
  },
  {
   "cell_type": "code",
   "execution_count": 380,
   "id": "1c3876a0-91a5-4ddc-91e9-b5c876ed802e",
   "metadata": {},
   "outputs": [],
   "source": [
    "diff_count = 0\n",
    "for i in range(n - 1):\n",
    "    for j in range(i + 1, n):\n",
    "        x_comp = x[i] < x[j]\n",
    "        y_comp = y[i] < y[j]\n",
    "        if x_comp != y_comp:\n",
    "            diff_count += 1"
   ]
  },
  {
   "cell_type": "code",
   "execution_count": 381,
   "id": "3fde1539-1349-49bd-80d5-4cfb2eb8ca15",
   "metadata": {},
   "outputs": [
    {
     "data": {
      "text/plain": [
       "-0.1473684210526316"
      ]
     },
     "execution_count": 381,
     "metadata": {},
     "output_type": "execute_result"
    }
   ],
   "source": [
    "K_kendall = 1 - (4 * diff_count) / (n * (n - 1))\n",
    "K_kendall"
   ]
  },
  {
   "cell_type": "code",
   "execution_count": 382,
   "id": "e1a92d02-51f1-425d-b64f-109e367ec88e",
   "metadata": {},
   "outputs": [],
   "source": [
    "diff_count = 0\n",
    "for i in range(n - 1):\n",
    "    for j in range(i + 1, n):\n",
    "        x_comp = Rx[i] < Rx[j]\n",
    "        y_comp = Ry[i] < Ry[j]\n",
    "        if x_comp != y_comp:\n",
    "            diff_count += 1"
   ]
  },
  {
   "cell_type": "code",
   "execution_count": 383,
   "id": "71aeeb0f-495b-401d-8c9f-2e50439514ea",
   "metadata": {},
   "outputs": [
    {
     "data": {
      "text/plain": [
       "-0.1473684210526316"
      ]
     },
     "execution_count": 383,
     "metadata": {},
     "output_type": "execute_result"
    }
   ],
   "source": [
    "K_kendall2 = 1 - (4 * diff_count) / (n * (n - 1))\n",
    "K_kendall2"
   ]
  },
  {
   "cell_type": "markdown",
   "id": "1e4c4b36-7efa-4aa8-9a14-653e6bf40720",
   "metadata": {},
   "source": [
    "### 2. Визуализация "
   ]
  },
  {
   "cell_type": "markdown",
   "id": "fa575953-daed-483f-b056-a097388b47ee",
   "metadata": {},
   "source": [
    "**1. Гистограммы**\n"
   ]
  },
  {
   "cell_type": "code",
   "execution_count": 384,
   "id": "a9e8e2c4-277c-4627-9846-38cc46f0d760",
   "metadata": {},
   "outputs": [
    {
     "name": "stdout",
     "output_type": "stream",
     "text": [
      "5\n"
     ]
    }
   ],
   "source": [
    "k = 1 + int(np.log2(y.count())) # правило Стюрджеса\n",
    "print(k)"
   ]
  },
  {
   "cell_type": "code",
   "execution_count": 385,
   "id": "e278b479-1e91-4cf5-9a4a-3fa93280e36e",
   "metadata": {},
   "outputs": [
    {
     "data": {
      "image/png": "[encoded data removed]",
      "text/plain": [
       "<Figure size 1200x500 with 2 Axes>"
      ]
     },
     "metadata": {},
     "output_type": "display_data"
    }
   ],
   "source": [
    "plt.figure(figsize=(12,5))\n",
    "\n",
    "plt.subplot(1, 2, 1)\n",
    "plt.hist(x, bins=k, edgecolor='black')\n",
    "plt.title('Гистограмма x')\n",
    "plt.xlabel('x')\n",
    "plt.ylabel('Частота')\n",
    "\n",
    "plt.subplot(1, 2, 2)\n",
    "plt.hist(y, bins=k, color='orange', edgecolor='black')\n",
    "plt.title('Гистограмма y')\n",
    "plt.xlabel('y')\n",
    "plt.ylabel('Частота')\n",
    "\n",
    "plt.tight_layout()\n",
    "plt.show()"
   ]
  },
  {
   "cell_type": "markdown",
   "id": "b4b9a46d-9f77-44af-ac08-bb21f8f2121c",
   "metadata": {},
   "source": [
    "**2. График рассеяния (scatter plot)**"
   ]
  },
  {
   "cell_type": "code",
   "execution_count": 386,
   "id": "2622c835-2ff3-4cbf-9316-00b9003a3fbb",
   "metadata": {},
   "outputs": [
    {
     "data": {
      "image/png": "[encoded data removed]",
      "text/plain": [
       "<Figure size 640x480 with 1 Axes>"
      ]
     },
     "metadata": {},
     "output_type": "display_data"
    }
   ],
   "source": [
    "plt.scatter(x, y)\n",
    "plt.grid(True)"
   ]
  },
  {
   "cell_type": "markdown",
   "id": "ad8b4cf4-5ec9-4497-8dae-27d44ddc2e8e",
   "metadata": {},
   "source": [
    "### 3. Уравнение регрессии "
   ]
  },
  {
   "cell_type": "markdown",
   "id": "5b020795-7e89-4f29-acb8-110bfffffe15",
   "metadata": {},
   "source": [
    "1. линейная, $$ y = w_1x + w_0 $$"
   ]
  },
  {
   "cell_type": "markdown",
   "id": "20e44d59-4d7e-4b8c-83bf-dca4db071766",
   "metadata": {},
   "source": [
    "$$ w^* = (X^T X)^{-1} X^T y $$"
   ]
  },
  {
   "cell_type": "code",
   "execution_count": 387,
   "id": "2a19d521-974e-442f-9865-3717ea34fe45",
   "metadata": {},
   "outputs": [
    {
     "data": {
      "text/plain": [
       "(np.float64(-0.0035606872223673883), np.float64(2.76503527567285))"
      ]
     },
     "execution_count": 387,
     "metadata": {},
     "output_type": "execute_result"
    }
   ],
   "source": [
    "X = np.c_[x, np.ones(len(x))]\n",
    "w = np.linalg.inv(X.T @ X) @ X.T @ y\n",
    "\n",
    "w1, w0 = w\n",
    "w1, w0"
   ]
  },
  {
   "cell_type": "code",
   "execution_count": 388,
   "id": "545ae72a-3799-4271-ac86-59874db54bb6",
   "metadata": {},
   "outputs": [
    {
     "data": {
      "image/png": "[encoded data removed]",
      "text/plain": [
       "<Figure size 640x480 with 1 Axes>"
      ]
     },
     "metadata": {},
     "output_type": "display_data"
    }
   ],
   "source": [
    "x_line = np.linspace(min(x), max(x), 100)\n",
    "y_line = w1 * x_line + w0\n",
    "\n",
    "plt.scatter(x, y, label='Данные')\n",
    "plt.plot(x_line, y_line, color='red', label=f'y = {w1:.4f}x + {w0:.4f}')\n",
    "plt.xlabel('X')\n",
    "plt.ylabel('y')\n",
    "plt.title('Линейная регрессия')\n",
    "plt.legend()\n",
    "plt.grid(True)\n",
    "plt.show()"
   ]
  },
  {
   "cell_type": "markdown",
   "id": "d925f0c4-a192-4603-b996-dc7d7a12a668",
   "metadata": {},
   "source": [
    "2. квадратичная, $$ y = w_2x^2 + w_1x + w_0 $$"
   ]
  },
  {
   "cell_type": "code",
   "execution_count": 390,
   "id": "97f3faf4-8051-4415-8f6b-968a1d10488e",
   "metadata": {},
   "outputs": [
    {
     "data": {
      "text/plain": [
       "(np.float64(0.0003268599957357481),\n",
       " np.float64(-0.037128961098515656),\n",
       " np.float64(3.4517641124936764))"
      ]
     },
     "execution_count": 390,
     "metadata": {},
     "output_type": "execute_result"
    }
   ],
   "source": [
    "X = np.vstack([x**2, x, np.ones(len(x))]).T\n",
    "w = np.linalg.inv(X.T @ X) @ X.T @ y\n",
    "w2, w1, w0 = w\n",
    "w2, w1, w0"
   ]
  },
  {
   "cell_type": "code",
   "execution_count": 391,
   "id": "09fc29f2-93df-4f9e-ba18-73537bc05011",
   "metadata": {},
   "outputs": [
    {
     "data": {
      "image/png": "[encoded data removed]",
      "text/plain": [
       "<Figure size 640x480 with 1 Axes>"
      ]
     },
     "metadata": {},
     "output_type": "display_data"
    }
   ],
   "source": [
    "x_line = np.linspace(min(x), max(x), 200)\n",
    "y_line = w2*x_line**2 + w1*x_line + w0\n",
    "\n",
    "plt.scatter(x, y, label='Данные')\n",
    "plt.plot(x_line, y_line, color='red', label=f'y={w2:.4f}x²+{w1:.4f}x+{w0:.4f}')\n",
    "plt.legend()\n",
    "plt.grid(True)\n",
    "plt.show()"
   ]
  },
  {
   "cell_type": "code",
   "execution_count": 392,
   "id": "7fb91a45-7d1a-44f4-98f7-f87d71d443ba",
   "metadata": {},
   "outputs": [
    {
     "data": {
      "text/plain": [
       "SignificanceResult(statistic=np.float64(1.846207238682934e-08), pvalue=np.float64(1.0))"
      ]
     },
     "execution_count": 392,
     "metadata": {},
     "output_type": "execute_result"
    }
   ],
   "source": [
    "fisher_exact([w2*x**2 + w1*x + w0, y])"
   ]
  },
  {
   "cell_type": "markdown",
   "id": "07389f5f-5e0f-41db-9bc8-e533b4b6f78c",
   "metadata": {},
   "source": [
    "3. гиперболическая, $$ y = \\frac{w_1}{x} + w_0 $$\n",
    "$$ y = w_1 * \\frac{1}{x} + w_0 $$"
   ]
  },
  {
   "cell_type": "code",
   "execution_count": 393,
   "id": "532a81b8-843d-4b31-8605-b3f1b837bcbc",
   "metadata": {},
   "outputs": [
    {
     "data": {
      "text/plain": [
       "(np.float64(7.3406685046182805), np.float64(2.392237849730681))"
      ]
     },
     "execution_count": 393,
     "metadata": {},
     "output_type": "execute_result"
    }
   ],
   "source": [
    "X = np.vstack([1/x, np.ones(len(x))]).T\n",
    "w = np.linalg.inv(X.T @ X) @ X.T @ y\n",
    "w1, w0 = w\n",
    "w1, w0"
   ]
  },
  {
   "cell_type": "code",
   "execution_count": 354,
   "id": "4d5df0a5-ab00-45b8-9888-3f3105f32d80",
   "metadata": {},
   "outputs": [
    {
     "data": {
      "image/png": "[encoded data removed]",
      "text/plain": [
       "<Figure size 640x480 with 1 Axes>"
      ]
     },
     "metadata": {},
     "output_type": "display_data"
    }
   ],
   "source": [
    "x_line = np.linspace(min(x), max(x), 200)\n",
    "y_line = w1/x_line + w0\n",
    "\n",
    "plt.scatter(x, y, label='Данные')\n",
    "plt.plot(x_line, y_line, color='red', label=f'y={w1:.4f}/x+{w0:.4f}')\n",
    "plt.legend()\n",
    "plt.grid(True)\n",
    "plt.show()"
   ]
  },
  {
   "cell_type": "markdown",
   "id": "9c13c581-5819-41d3-af48-060041adf9dc",
   "metadata": {},
   "source": [
    "4. показательная, $$ y = w_1^x * w_0 $$\n",
    "$$ \\ln y = \\ln w_1 * x + \\ln w_0 $$\n",
    "$$ y' = B_1 x + B_0 $$"
   ]
  },
  {
   "cell_type": "code",
   "execution_count": 356,
   "id": "d6bb9810-708f-4b84-94a1-ebca11a2a17b",
   "metadata": {},
   "outputs": [
    {
     "data": {
      "text/plain": [
       "(np.float64(0.9985554453979646), np.float64(2.743893539977674))"
      ]
     },
     "execution_count": 356,
     "metadata": {},
     "output_type": "execute_result"
    }
   ],
   "source": [
    "y_l = np.log(y)\n",
    "X_l = np.vstack([x, np.ones(len(x))]).T\n",
    "\n",
    "B = np.linalg.inv(X_l.T @ X_l) @ X_l.T @ y_l\n",
    "B1, B0 = B\n",
    "\n",
    "w1 = np.exp(B1)\n",
    "w0 = np.exp(B0)\n",
    "w1, w0"
   ]
  },
  {
   "cell_type": "code",
   "execution_count": 357,
   "id": "fd4bbc7f-e70f-45e7-8516-37ac25ebbc74",
   "metadata": {},
   "outputs": [
    {
     "data": {
      "image/png": "[encoded data removed]",
      "text/plain": [
       "<Figure size 640x480 with 1 Axes>"
      ]
     },
     "metadata": {},
     "output_type": "display_data"
    }
   ],
   "source": [
    "x_line = np.linspace(min(x), max(x), 100)\n",
    "y_line = (w1**x_line) * w0\n",
    "\n",
    "plt.scatter(x, y, label='Данные')\n",
    "plt.plot(x_line, y_line, color='red', label=f'$y = {w1:.4f}^x \\cdot {w0:.4f}$')\n",
    "plt.xlabel('X')\n",
    "plt.ylabel('y')\n",
    "plt.legend()\n",
    "plt.grid(True)\n",
    "plt.show()"
   ]
  },
  {
   "cell_type": "code",
   "execution_count": 358,
   "id": "35ac89b3-c5ce-45f7-87ce-a6aae8a17f46",
   "metadata": {},
   "outputs": [
    {
     "data": {
      "text/plain": [
       "SignificanceResult(statistic=np.float64(1.846207238682934e-08), pvalue=np.float64(1.0))"
      ]
     },
     "execution_count": 358,
     "metadata": {},
     "output_type": "execute_result"
    }
   ],
   "source": [
    "fisher_exact([(w1**x) * w0, y])"
   ]
  }
 ],
 "metadata": {
  "kernelspec": {
   "display_name": "Python 3 (ipykernel)",
   "language": "python",
   "name": "python3"
  },
  "language_info": {
   "codemirror_mode": {
    "name": "ipython",
    "version": 3
   },
   "file_extension": ".py",
   "mimetype": "text/x-python",
   "name": "python",
   "nbconvert_exporter": "python",
   "pygments_lexer": "ipython3",
   "version": "3.11.13"
  }
 },
 "nbformat": 4,
 "nbformat_minor": 5
}
