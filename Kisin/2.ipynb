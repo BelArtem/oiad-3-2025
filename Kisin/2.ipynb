{
 "cells": [
  {
   "cell_type": "code",
   "execution_count": 1,
   "id": "208d5f5b-9021-4fbe-9440-290ea7d6c003",
   "metadata": {},
   "outputs": [],
   "source": [
    "import numpy as np\n",
    "import pandas as pd\n",
    "import matplotlib.pyplot as plt\n",
    "from scipy import stats\n",
    "\n",
    "df = pd.read_csv(\"../datasets/students_simple.csv\")"
   ]
  },
  {
   "cell_type": "code",
   "execution_count": 2,
   "id": "0683c16b-d67c-4ecb-8100-a6e3734107ce",
   "metadata": {},
   "outputs": [
    {
     "data": {
      "text/html": [
       "<div>\n",
       "<style scoped>\n",
       "    .dataframe tbody tr th:only-of-type {\n",
       "        vertical-align: middle;\n",
       "    }\n",
       "\n",
       "    .dataframe tbody tr th {\n",
       "        vertical-align: top;\n",
       "    }\n",
       "\n",
       "    .dataframe thead th {\n",
       "        text-align: right;\n",
       "    }\n",
       "</style>\n",
       "<table border=\"1\" class=\"dataframe\">\n",
       "  <thead>\n",
       "    <tr style=\"text-align: right;\">\n",
       "      <th></th>\n",
       "      <th>height</th>\n",
       "      <th>mass</th>\n",
       "      <th>income</th>\n",
       "      <th>iq</th>\n",
       "      <th>pages</th>\n",
       "      <th>age</th>\n",
       "      <th>bmi</th>\n",
       "      <th>work_exp</th>\n",
       "      <th>friends</th>\n",
       "      <th>test_time</th>\n",
       "    </tr>\n",
       "  </thead>\n",
       "  <tbody>\n",
       "    <tr>\n",
       "      <th>0</th>\n",
       "      <td>159</td>\n",
       "      <td>45</td>\n",
       "      <td>430</td>\n",
       "      <td>95</td>\n",
       "      <td>24</td>\n",
       "      <td>20</td>\n",
       "      <td>3.533</td>\n",
       "      <td>26</td>\n",
       "      <td>5</td>\n",
       "      <td>8.5</td>\n",
       "    </tr>\n",
       "    <tr>\n",
       "      <th>1</th>\n",
       "      <td>160</td>\n",
       "      <td>61</td>\n",
       "      <td>640</td>\n",
       "      <td>115</td>\n",
       "      <td>32</td>\n",
       "      <td>25</td>\n",
       "      <td>2.623</td>\n",
       "      <td>63</td>\n",
       "      <td>7</td>\n",
       "      <td>6.2</td>\n",
       "    </tr>\n",
       "    <tr>\n",
       "      <th>2</th>\n",
       "      <td>161</td>\n",
       "      <td>56</td>\n",
       "      <td>610</td>\n",
       "      <td>111</td>\n",
       "      <td>24</td>\n",
       "      <td>28</td>\n",
       "      <td>2.875</td>\n",
       "      <td>94</td>\n",
       "      <td>10</td>\n",
       "      <td>6.8</td>\n",
       "    </tr>\n",
       "    <tr>\n",
       "      <th>3</th>\n",
       "      <td>162</td>\n",
       "      <td>48</td>\n",
       "      <td>330</td>\n",
       "      <td>97</td>\n",
       "      <td>24</td>\n",
       "      <td>19</td>\n",
       "      <td>3.375</td>\n",
       "      <td>16</td>\n",
       "      <td>4</td>\n",
       "      <td>12.0</td>\n",
       "    </tr>\n",
       "    <tr>\n",
       "      <th>4</th>\n",
       "      <td>162</td>\n",
       "      <td>54</td>\n",
       "      <td>420</td>\n",
       "      <td>105</td>\n",
       "      <td>60</td>\n",
       "      <td>23</td>\n",
       "      <td>3.000</td>\n",
       "      <td>49</td>\n",
       "      <td>2</td>\n",
       "      <td>7.5</td>\n",
       "    </tr>\n",
       "  </tbody>\n",
       "</table>\n",
       "</div>"
      ],
      "text/plain": [
       "   height  mass  income   iq  pages  age    bmi  work_exp  friends  test_time\n",
       "0     159    45     430   95     24   20  3.533        26        5        8.5\n",
       "1     160    61     640  115     32   25  2.623        63        7        6.2\n",
       "2     161    56     610  111     24   28  2.875        94       10        6.8\n",
       "3     162    48     330   97     24   19  3.375        16        4       12.0\n",
       "4     162    54     420  105     60   23  3.000        49        2        7.5"
      ]
     },
     "execution_count": 2,
     "metadata": {},
     "output_type": "execute_result"
    }
   ],
   "source": [
    "df.head()"
   ]
  },
  {
   "cell_type": "code",
   "execution_count": 3,
   "id": "0a8bbd6f-bdaf-4976-98a4-452a808e7e07",
   "metadata": {},
   "outputs": [],
   "source": [
    "N = 17\n",
    "x = df.iloc[:, N % 5]\n",
    "y = df.iloc[:, (N ** 2) % 5 + 5]"
   ]
  },
  {
   "cell_type": "code",
   "execution_count": 4,
   "id": "c752cd61-811b-4d01-a14d-93c78dd21f94",
   "metadata": {},
   "outputs": [
    {
     "data": {
      "text/plain": [
       "np.float64(-0.4)"
      ]
     },
     "execution_count": 4,
     "metadata": {},
     "output_type": "execute_result"
    }
   ],
   "source": [
    "mean_x, mean_y = np.mean(x), np.mean(y)\n",
    "sign_x = np.sign(x - mean_x)\n",
    "sign_y = np.sign(y - mean_y)\n",
    "n_same = np.sum(sign_x * sign_y > 0)\n",
    "n_diff = np.sum(sign_x * sign_y < 0)\n",
    "corr_fechner = (n_same - n_diff) / len(x)\n",
    "corr_fechner"
   ]
  },
  {
   "cell_type": "code",
   "execution_count": 5,
   "id": "7a3493b0-4ba1-48f7-a3d6-84a5f209edaf",
   "metadata": {},
   "outputs": [
    {
     "data": {
      "text/plain": [
       "np.float64(-0.5698939517430254)"
      ]
     },
     "execution_count": 5,
     "metadata": {},
     "output_type": "execute_result"
    }
   ],
   "source": [
    "x_norm = x - x.mean()\n",
    "y_norm = y - y.mean()\n",
    "pirson = np.sum(x_norm * y_norm) / (x.shape[0] * np.std(x_norm) * np.std(y_norm))\n",
    "pirson"
   ]
  },
  {
   "cell_type": "code",
   "execution_count": 6,
   "id": "54d5f449-20c1-46d9-ac34-21bce2928686",
   "metadata": {},
   "outputs": [],
   "source": [
    "alpha = 0.05\n",
    "z = np.arctanh(pirson)\n",
    "se = 1 / np.sqrt(len(x) - 3)\n",
    "z_crit = stats.norm.ppf(1 - alpha / 2)\n",
    "ci_low, ci_high = np.tanh([z - z_crit * se, z + z_crit * se])"
   ]
  },
  {
   "cell_type": "code",
   "execution_count": 7,
   "id": "7e9abacc-c938-466c-9be4-75bac210d708",
   "metadata": {},
   "outputs": [
    {
     "name": "stdout",
     "output_type": "stream",
     "text": [
      "-0.8085153217834531 -0.1703282324387952\n"
     ]
    }
   ],
   "source": [
    "print(ci_low, ci_high)"
   ]
  },
  {
   "cell_type": "code",
   "execution_count": 9,
   "id": "3e3aeb5a-f67a-4359-a42f-ffa741d583d3",
   "metadata": {},
   "outputs": [
    {
     "name": "stdout",
     "output_type": "stream",
     "text": [
      "-0.5368421052631578\n",
      "-0.43157894736842106\n"
     ]
    }
   ],
   "source": [
    "def rank_array(arr):\n",
    "    temp = arr.argsort()\n",
    "    ranks = np.empty_like(temp, dtype=float)\n",
    "    ranks[temp] = np.arange(1, len(arr) + 1)\n",
    "    \n",
    "    unique, inv, counts = np.unique(arr, return_inverse=True, return_counts=True)\n",
    "    for i, count in enumerate(counts):\n",
    "        if count > 1:\n",
    "            ranks[inv == i] = np.mean(ranks[inv == i])\n",
    "    return ranks\n",
    "\n",
    "rx = rank_array(x)\n",
    "ry = rank_array(y)\n",
    "d = rx - ry\n",
    "spearman = 1 - (6 * np.sum(d**2)) / (len(x) * (len(x)**2 - 1))\n",
    "print(spearman)\n",
    "\n",
    "n_concordant = 0\n",
    "n_discordant = 0\n",
    "for i in range(len(x) - 1):\n",
    "    for j in range(i + 1, len(x)):\n",
    "        diff_x = x[i] - x[j]\n",
    "        diff_y = y[i] - y[j]\n",
    "        prod = diff_x * diff_y\n",
    "        if prod > 0:\n",
    "            n_concordant += 1\n",
    "        elif prod < 0:\n",
    "            n_discordant += 1\n",
    "kendall = (n_concordant - n_discordant) / (0.5 * len(x) * (len(x) - 1))\n",
    "print(kendall)"
   ]
  },
  {
   "cell_type": "markdown",
   "id": "4dbdf897-e41a-4348-b065-104d931703a5",
   "metadata": {},
   "source": [
    "Наблюдается обратная зависимость между признаками"
   ]
  },
  {
   "cell_type": "code",
   "execution_count": 10,
   "id": "ede1c31d-65cb-45db-be52-574117da3e03",
   "metadata": {
    "scrolled": true
   },
   "outputs": [
    {
     "data": {
      "text/plain": [
       "(array([2., 3., 1., 1., 1., 3., 1., 0., 0., 2., 0., 2., 1., 1., 0., 0., 1.,\n",
       "        0., 0., 1.]),\n",
       " array([290. , 317.5, 345. , 372.5, 400. , 427.5, 455. , 482.5, 510. ,\n",
       "        537.5, 565. , 592.5, 620. , 647.5, 675. , 702.5, 730. , 757.5,\n",
       "        785. , 812.5, 840. ]),\n",
       " <BarContainer object of 20 artists>)"
      ]
     },
     "execution_count": 10,
     "metadata": {},
     "output_type": "execute_result"
    },
    {
     "data": {
      "image/png": "[encoded data removed]",
      "text/plain": [
       "<Figure size 640x480 with 1 Axes>"
      ]
     },
     "metadata": {},
     "output_type": "display_data"
    }
   ],
   "source": [
    "plt.hist(x, bins=len(x))"
   ]
  },
  {
   "cell_type": "code",
   "execution_count": 11,
   "id": "b1b874e7-bb46-4ae1-8009-554fab510f69",
   "metadata": {
    "scrolled": true
   },
   "outputs": [
    {
     "data": {
      "text/plain": [
       "(array([1., 1., 2., 0., 0., 1., 2., 1., 2., 1., 1., 2., 0., 1., 2., 1., 0.,\n",
       "        0., 1., 1.]),\n",
       " array([ 3.5 ,  3.95,  4.4 ,  4.85,  5.3 ,  5.75,  6.2 ,  6.65,  7.1 ,\n",
       "         7.55,  8.  ,  8.45,  8.9 ,  9.35,  9.8 , 10.25, 10.7 , 11.15,\n",
       "        11.6 , 12.05, 12.5 ]),\n",
       " <BarContainer object of 20 artists>)"
      ]
     },
     "execution_count": 11,
     "metadata": {},
     "output_type": "execute_result"
    },
    {
     "data": {
      "image/png": "[encoded data removed]",
      "text/plain": [
       "<Figure size 640x480 with 1 Axes>"
      ]
     },
     "metadata": {},
     "output_type": "display_data"
    }
   ],
   "source": [
    "plt.hist(y, bins=len(x))"
   ]
  },
  {
   "cell_type": "code",
   "execution_count": 12,
   "id": "1e86f7b5-7915-4003-9204-ba596853c86c",
   "metadata": {
    "scrolled": true
   },
   "outputs": [
    {
     "data": {
      "text/plain": [
       "<matplotlib.collections.PathCollection at 0x1239d14c0>"
      ]
     },
     "execution_count": 12,
     "metadata": {},
     "output_type": "execute_result"
    },
    {
     "data": {
      "image/png": "[encoded data removed]",
      "text/plain": [
       "<Figure size 640x480 with 1 Axes>"
      ]
     },
     "metadata": {},
     "output_type": "display_data"
    }
   ],
   "source": [
    "plt.scatter(x,y)"
   ]
  },
  {
   "cell_type": "markdown",
   "id": "e30af7c5-5dd0-49df-b1c1-06cf80c2a38f",
   "metadata": {},
   "source": [
    "Наблюдается слабая линейная зависимость признаков"
   ]
  },
  {
   "cell_type": "code",
   "execution_count": 13,
   "id": "140c3875-9c4d-4fae-9650-0b3aa44de2b0",
   "metadata": {},
   "outputs": [],
   "source": [
    "from sklearn.linear_model import LinearRegression\n",
    "\n",
    "x_ = x.to_numpy().reshape(-1, 1)\n",
    "lin_reg = LinearRegression().fit(x_, y)\n",
    "sq_reg = LinearRegression().fit(np.concat([x_, x_ ** 2], axis=1), y)\n",
    "hyp_reg = LinearRegression().fit(1 / x_, y)\n",
    "log_reg = LinearRegression().fit(x_, np.log(y))"
   ]
  },
  {
   "cell_type": "code",
   "execution_count": 29,
   "id": "a7d906d3-b3f8-47d6-9d7b-10cc2468248e",
   "metadata": {},
   "outputs": [],
   "source": [
    "from scipy import stats\n",
    "\n",
    "def fisher(y_true, y_pred, k=1, alpha=0.05):\n",
    "    n = len(y_true)\n",
    "    \n",
    "    # R² coefficient\n",
    "    ss_res = np.sum((y_true - y_pred)**2)\n",
    "    ss_tot = np.sum((y_true - np.mean(y_true))**2)\n",
    "    r2 = 1 - ss_res / ss_tot\n",
    "\n",
    "    # F-statistic\n",
    "    F = (r2 / k) / ((1 - r2) / (n - k - 1))\n",
    "\n",
    "    # critical value\n",
    "    F_crit = stats.f.ppf(1 - alpha, k, n - k - 1)\n",
    "\n",
    "    print(f\"R² = {r2:.4f}\")\n",
    "    print(f\"F_calc = {F:.4f}\")\n",
    "    print(f\"F_crit = {F_crit:.4f}\")\n",
    "\n",
    "    if F > F_crit:\n",
    "        print(\"Model is statistically significant (fits data well)\")\n",
    "    else:\n",
    "        print(\"Model is not statistically significant (fits poorly)\")\n",
    "\n",
    "    return F, F_crit, r2\n"
   ]
  },
  {
   "cell_type": "code",
   "execution_count": 30,
   "id": "0a8ab9c3-a72f-47a8-a3ad-ae4c209a5c88",
   "metadata": {
    "scrolled": true
   },
   "outputs": [
    {
     "data": {
      "image/png": "[encoded data removed]",
      "text/plain": [
       "<Figure size 640x480 with 1 Axes>"
      ]
     },
     "metadata": {},
     "output_type": "display_data"
    }
   ],
   "source": [
    "plt.scatter(x_, lin_reg.predict(x_), color=\"red\")\n",
    "plt.scatter(x_, y)\n",
    "plt.show()"
   ]
  },
  {
   "cell_type": "code",
   "execution_count": 31,
   "id": "da6d50d4-7a36-445d-b7ef-874a89c9d9d6",
   "metadata": {},
   "outputs": [
    {
     "name": "stdout",
     "output_type": "stream",
     "text": [
      "R² = -1.0790\n",
      "F_calc = -9.3421\n",
      "F_crit = 4.4139\n",
      "Model is not statistically significant (fits poorly)\n"
     ]
    },
    {
     "data": {
      "text/plain": [
       "(np.float64(-9.34205675098935),\n",
       " np.float64(4.413873419170566),\n",
       " np.float64(-1.0790157064216))"
      ]
     },
     "execution_count": 31,
     "metadata": {},
     "output_type": "execute_result"
    }
   ],
   "source": [
    "fisher(lin_reg.predict(x_), y)"
   ]
  },
  {
   "cell_type": "code",
   "execution_count": 32,
   "id": "1664f223-6807-4e72-8012-0bd5f11ddc7e",
   "metadata": {
    "scrolled": true
   },
   "outputs": [
    {
     "data": {
      "image/png": "[encoded data removed]",
      "text/plain": [
       "<Figure size 640x480 with 1 Axes>"
      ]
     },
     "metadata": {},
     "output_type": "display_data"
    }
   ],
   "source": [
    "\n",
    "plt.scatter(x_, sq_reg.predict(np.concat([x_, x_ ** 2], axis=1)), color=\"red\")\n",
    "plt.scatter(x_, y)\n",
    "plt.show()"
   ]
  },
  {
   "cell_type": "code",
   "execution_count": 33,
   "id": "6f931fa2-35e5-41cc-9eac-619f3aa596d5",
   "metadata": {},
   "outputs": [
    {
     "name": "stdout",
     "output_type": "stream",
     "text": [
      "R² = -0.8235\n",
      "F_calc = -8.1286\n",
      "F_crit = 4.4139\n",
      "Model is not statistically significant (fits poorly)\n"
     ]
    },
    {
     "data": {
      "text/plain": [
       "(np.float64(-8.128643110023035),\n",
       " np.float64(4.413873419170566),\n",
       " np.float64(-0.8234575246971954))"
      ]
     },
     "execution_count": 33,
     "metadata": {},
     "output_type": "execute_result"
    }
   ],
   "source": [
    "fisher(sq_reg.predict(np.concat([x_, x_ ** 2], axis=1)), y)"
   ]
  },
  {
   "cell_type": "code",
   "execution_count": 34,
   "id": "3a243bb1-ae5d-44a5-bc65-00bca2f24785",
   "metadata": {
    "scrolled": true
   },
   "outputs": [
    {
     "data": {
      "image/png": "[encoded data removed]",
      "text/plain": [
       "<Figure size 640x480 with 1 Axes>"
      ]
     },
     "metadata": {},
     "output_type": "display_data"
    }
   ],
   "source": [
    "plt.scatter(x_, hyp_reg.predict(1 / x_), color=\"red\")\n",
    "plt.scatter(x_, y)\n",
    "plt.show()"
   ]
  },
  {
   "cell_type": "code",
   "execution_count": 35,
   "id": "3019c959-2812-46b7-8380-ad2bf8dc37f7",
   "metadata": {},
   "outputs": [
    {
     "name": "stdout",
     "output_type": "stream",
     "text": [
      "R² = -2.1191\n",
      "F_calc = -12.2291\n",
      "F_crit = 4.4139\n",
      "Model is not statistically significant (fits poorly)\n"
     ]
    },
    {
     "data": {
      "text/plain": [
       "(np.float64(-12.229096862820697),\n",
       " np.float64(4.413873419170566),\n",
       " np.float64(-2.1190958455071254))"
      ]
     },
     "execution_count": 35,
     "metadata": {},
     "output_type": "execute_result"
    }
   ],
   "source": [
    "fisher(hyp_reg.predict(1 / x_), y)"
   ]
  },
  {
   "cell_type": "code",
   "execution_count": 36,
   "id": "b1f7ee15-cca6-4568-9775-dc31161e06f9",
   "metadata": {
    "scrolled": true
   },
   "outputs": [
    {
     "data": {
      "image/png": "[encoded data removed]",
      "text/plain": [
       "<Figure size 640x480 with 1 Axes>"
      ]
     },
     "metadata": {},
     "output_type": "display_data"
    }
   ],
   "source": [
    "plt.scatter(x_, np.exp(log_reg.predict(x_)), color=\"red\")\n",
    "plt.scatter(x_, y)\n",
    "plt.show()"
   ]
  },
  {
   "cell_type": "code",
   "execution_count": 37,
   "id": "99b0e901-ae2b-4a7e-92fa-db35e5da03a6",
   "metadata": {},
   "outputs": [
    {
     "name": "stdout",
     "output_type": "stream",
     "text": [
      "R² = -1.0752\n",
      "F_calc = -9.3259\n",
      "F_crit = 4.4139\n",
      "Model is not statistically significant (fits poorly)\n"
     ]
    },
    {
     "data": {
      "text/plain": [
       "(np.float64(-9.325949977971751),\n",
       " np.float64(4.413873419170566),\n",
       " np.float64(-1.0751551990463466))"
      ]
     },
     "execution_count": 37,
     "metadata": {},
     "output_type": "execute_result"
    }
   ],
   "source": [
    "fisher(np.exp(log_reg.predict(x_)),y)"
   ]
  },
  {
   "cell_type": "markdown",
   "id": "6ec63e7c-1813-4ed5-88c4-be3f7247b63f",
   "metadata": {},
   "source": [
    "Лучше всего справилась гипербола, хуже всего квадратичная"
   ]
  },
  {
   "cell_type": "code",
   "execution_count": null,
   "id": "2e6d12e0-b00c-48e9-8043-763400293b10",
   "metadata": {},
   "outputs": [],
   "source": []
  },
  {
   "cell_type": "code",
   "execution_count": null,
   "id": "d12660ea-a63d-40d5-b823-756a62045021",
   "metadata": {},
   "outputs": [],
   "source": []
  },
  {
   "cell_type": "code",
   "execution_count": null,
   "id": "fb094dd6-2deb-4755-806c-435d6a0a3235",
   "metadata": {},
   "outputs": [],
   "source": []
  }
 ],
 "metadata": {
  "kernelspec": {
   "display_name": "Python 3 (ipykernel)",
   "language": "python",
   "name": "python3"
  },
  "language_info": {
   "codemirror_mode": {
    "name": "ipython",
    "version": 3
   },
   "file_extension": ".py",
   "mimetype": "text/x-python",
   "name": "python",
   "nbconvert_exporter": "python",
   "pygments_lexer": "ipython3",
   "version": "3.12.1"
  }
 },
 "nbformat": 4,
 "nbformat_minor": 5
}
