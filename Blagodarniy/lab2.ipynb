{
 "cells": [
  {
   "cell_type": "markdown",
   "id": "ab781378",
   "metadata": {},
   "source": [
    "# ОИАД. Лабораторная работа №2"
   ]
  },
  {
   "cell_type": "markdown",
   "id": "3cad1733",
   "metadata": {},
   "source": [
    "# Библиотеки"
   ]
  },
  {
   "cell_type": "code",
   "execution_count": 203,
   "id": "b0099560",
   "metadata": {},
   "outputs": [],
   "source": [
    "import pandas as pd\n",
    "import numpy as np\n",
    "from scipy import stats\n",
    "import matplotlib.pyplot as plt\n",
    "import seaborn as sns"
   ]
  },
  {
   "cell_type": "markdown",
   "id": "46f1082a",
   "metadata": {},
   "source": [
    "## Входные данные\n",
    "Датасет: **datasets/students_simple.csv**\n",
    "Выбираются 2 слобика данных по формулам:\n",
    "1) N % 5\n",
    "2) $N^2$ % 5 + 5\n",
    "где $N$ - номер в списке"
   ]
  },
  {
   "cell_type": "code",
   "execution_count": 172,
   "id": "7aecfe26",
   "metadata": {},
   "outputs": [
    {
     "data": {
      "text/html": [
       "<div>\n",
       "<style scoped>\n",
       "    .dataframe tbody tr th:only-of-type {\n",
       "        vertical-align: middle;\n",
       "    }\n",
       "\n",
       "    .dataframe tbody tr th {\n",
       "        vertical-align: top;\n",
       "    }\n",
       "\n",
       "    .dataframe thead th {\n",
       "        text-align: right;\n",
       "    }\n",
       "</style>\n",
       "<table border=\"1\" class=\"dataframe\">\n",
       "  <thead>\n",
       "    <tr style=\"text-align: right;\">\n",
       "      <th></th>\n",
       "      <th>height</th>\n",
       "      <th>mass</th>\n",
       "      <th>income</th>\n",
       "      <th>iq</th>\n",
       "      <th>pages</th>\n",
       "      <th>age</th>\n",
       "      <th>bmi</th>\n",
       "      <th>work_exp</th>\n",
       "      <th>friends</th>\n",
       "      <th>test_time</th>\n",
       "    </tr>\n",
       "  </thead>\n",
       "  <tbody>\n",
       "    <tr>\n",
       "      <th>0</th>\n",
       "      <td>159</td>\n",
       "      <td>45</td>\n",
       "      <td>430</td>\n",
       "      <td>95</td>\n",
       "      <td>24</td>\n",
       "      <td>20</td>\n",
       "      <td>3.533</td>\n",
       "      <td>26</td>\n",
       "      <td>5</td>\n",
       "      <td>8.5</td>\n",
       "    </tr>\n",
       "    <tr>\n",
       "      <th>1</th>\n",
       "      <td>160</td>\n",
       "      <td>61</td>\n",
       "      <td>640</td>\n",
       "      <td>115</td>\n",
       "      <td>32</td>\n",
       "      <td>25</td>\n",
       "      <td>2.623</td>\n",
       "      <td>63</td>\n",
       "      <td>7</td>\n",
       "      <td>6.2</td>\n",
       "    </tr>\n",
       "    <tr>\n",
       "      <th>2</th>\n",
       "      <td>161</td>\n",
       "      <td>56</td>\n",
       "      <td>610</td>\n",
       "      <td>111</td>\n",
       "      <td>24</td>\n",
       "      <td>28</td>\n",
       "      <td>2.875</td>\n",
       "      <td>94</td>\n",
       "      <td>10</td>\n",
       "      <td>6.8</td>\n",
       "    </tr>\n",
       "    <tr>\n",
       "      <th>3</th>\n",
       "      <td>162</td>\n",
       "      <td>48</td>\n",
       "      <td>330</td>\n",
       "      <td>97</td>\n",
       "      <td>24</td>\n",
       "      <td>19</td>\n",
       "      <td>3.375</td>\n",
       "      <td>16</td>\n",
       "      <td>4</td>\n",
       "      <td>12.0</td>\n",
       "    </tr>\n",
       "    <tr>\n",
       "      <th>4</th>\n",
       "      <td>162</td>\n",
       "      <td>54</td>\n",
       "      <td>420</td>\n",
       "      <td>105</td>\n",
       "      <td>60</td>\n",
       "      <td>23</td>\n",
       "      <td>3.000</td>\n",
       "      <td>49</td>\n",
       "      <td>2</td>\n",
       "      <td>7.5</td>\n",
       "    </tr>\n",
       "    <tr>\n",
       "      <th>5</th>\n",
       "      <td>164</td>\n",
       "      <td>58</td>\n",
       "      <td>290</td>\n",
       "      <td>98</td>\n",
       "      <td>16</td>\n",
       "      <td>20</td>\n",
       "      <td>2.828</td>\n",
       "      <td>14</td>\n",
       "      <td>6</td>\n",
       "      <td>10.0</td>\n",
       "    </tr>\n",
       "    <tr>\n",
       "      <th>6</th>\n",
       "      <td>166</td>\n",
       "      <td>51</td>\n",
       "      <td>480</td>\n",
       "      <td>109</td>\n",
       "      <td>90</td>\n",
       "      <td>26</td>\n",
       "      <td>3.255</td>\n",
       "      <td>78</td>\n",
       "      <td>9</td>\n",
       "      <td>7.2</td>\n",
       "    </tr>\n",
       "    <tr>\n",
       "      <th>7</th>\n",
       "      <td>169</td>\n",
       "      <td>62</td>\n",
       "      <td>610</td>\n",
       "      <td>120</td>\n",
       "      <td>24</td>\n",
       "      <td>19</td>\n",
       "      <td>2.726</td>\n",
       "      <td>10</td>\n",
       "      <td>5</td>\n",
       "      <td>4.2</td>\n",
       "    </tr>\n",
       "    <tr>\n",
       "      <th>8</th>\n",
       "      <td>170</td>\n",
       "      <td>70</td>\n",
       "      <td>840</td>\n",
       "      <td>122</td>\n",
       "      <td>48</td>\n",
       "      <td>30</td>\n",
       "      <td>2.429</td>\n",
       "      <td>130</td>\n",
       "      <td>10</td>\n",
       "      <td>3.5</td>\n",
       "    </tr>\n",
       "    <tr>\n",
       "      <th>9</th>\n",
       "      <td>170</td>\n",
       "      <td>72</td>\n",
       "      <td>330</td>\n",
       "      <td>92</td>\n",
       "      <td>24</td>\n",
       "      <td>20</td>\n",
       "      <td>2.361</td>\n",
       "      <td>20</td>\n",
       "      <td>3</td>\n",
       "      <td>9.5</td>\n",
       "    </tr>\n",
       "    <tr>\n",
       "      <th>10</th>\n",
       "      <td>171</td>\n",
       "      <td>73</td>\n",
       "      <td>560</td>\n",
       "      <td>110</td>\n",
       "      <td>16</td>\n",
       "      <td>28</td>\n",
       "      <td>2.342</td>\n",
       "      <td>86</td>\n",
       "      <td>8</td>\n",
       "      <td>7.8</td>\n",
       "    </tr>\n",
       "    <tr>\n",
       "      <th>11</th>\n",
       "      <td>171</td>\n",
       "      <td>64</td>\n",
       "      <td>450</td>\n",
       "      <td>102</td>\n",
       "      <td>48</td>\n",
       "      <td>21</td>\n",
       "      <td>2.672</td>\n",
       "      <td>29</td>\n",
       "      <td>4</td>\n",
       "      <td>8.0</td>\n",
       "    </tr>\n",
       "    <tr>\n",
       "      <th>12</th>\n",
       "      <td>172</td>\n",
       "      <td>73</td>\n",
       "      <td>350</td>\n",
       "      <td>108</td>\n",
       "      <td>32</td>\n",
       "      <td>26</td>\n",
       "      <td>2.356</td>\n",
       "      <td>75</td>\n",
       "      <td>7</td>\n",
       "      <td>6.0</td>\n",
       "    </tr>\n",
       "    <tr>\n",
       "      <th>13</th>\n",
       "      <td>174</td>\n",
       "      <td>68</td>\n",
       "      <td>310</td>\n",
       "      <td>100</td>\n",
       "      <td>48</td>\n",
       "      <td>21</td>\n",
       "      <td>2.559</td>\n",
       "      <td>22</td>\n",
       "      <td>4</td>\n",
       "      <td>4.8</td>\n",
       "    </tr>\n",
       "    <tr>\n",
       "      <th>14</th>\n",
       "      <td>176</td>\n",
       "      <td>81</td>\n",
       "      <td>380</td>\n",
       "      <td>104</td>\n",
       "      <td>64</td>\n",
       "      <td>20</td>\n",
       "      <td>2.173</td>\n",
       "      <td>32</td>\n",
       "      <td>1</td>\n",
       "      <td>8.6</td>\n",
       "    </tr>\n",
       "    <tr>\n",
       "      <th>15</th>\n",
       "      <td>176</td>\n",
       "      <td>84</td>\n",
       "      <td>340</td>\n",
       "      <td>104</td>\n",
       "      <td>48</td>\n",
       "      <td>19</td>\n",
       "      <td>2.095</td>\n",
       "      <td>21</td>\n",
       "      <td>5</td>\n",
       "      <td>10.0</td>\n",
       "    </tr>\n",
       "    <tr>\n",
       "      <th>16</th>\n",
       "      <td>178</td>\n",
       "      <td>76</td>\n",
       "      <td>660</td>\n",
       "      <td>128</td>\n",
       "      <td>90</td>\n",
       "      <td>27</td>\n",
       "      <td>2.342</td>\n",
       "      <td>96</td>\n",
       "      <td>8</td>\n",
       "      <td>4.5</td>\n",
       "    </tr>\n",
       "    <tr>\n",
       "      <th>17</th>\n",
       "      <td>181</td>\n",
       "      <td>90</td>\n",
       "      <td>450</td>\n",
       "      <td>106</td>\n",
       "      <td>48</td>\n",
       "      <td>26</td>\n",
       "      <td>2.011</td>\n",
       "      <td>70</td>\n",
       "      <td>9</td>\n",
       "      <td>12.5</td>\n",
       "    </tr>\n",
       "    <tr>\n",
       "      <th>18</th>\n",
       "      <td>183</td>\n",
       "      <td>68</td>\n",
       "      <td>540</td>\n",
       "      <td>105</td>\n",
       "      <td>32</td>\n",
       "      <td>23</td>\n",
       "      <td>2.691</td>\n",
       "      <td>59</td>\n",
       "      <td>6</td>\n",
       "      <td>10.5</td>\n",
       "    </tr>\n",
       "    <tr>\n",
       "      <th>19</th>\n",
       "      <td>192</td>\n",
       "      <td>95</td>\n",
       "      <td>750</td>\n",
       "      <td>117</td>\n",
       "      <td>60</td>\n",
       "      <td>27</td>\n",
       "      <td>2.021</td>\n",
       "      <td>98</td>\n",
       "      <td>4</td>\n",
       "      <td>6.5</td>\n",
       "    </tr>\n",
       "  </tbody>\n",
       "</table>\n",
       "</div>"
      ],
      "text/plain": [
       "    height  mass  income   iq  pages  age    bmi  work_exp  friends  test_time\n",
       "0      159    45     430   95     24   20  3.533        26        5        8.5\n",
       "1      160    61     640  115     32   25  2.623        63        7        6.2\n",
       "2      161    56     610  111     24   28  2.875        94       10        6.8\n",
       "3      162    48     330   97     24   19  3.375        16        4       12.0\n",
       "4      162    54     420  105     60   23  3.000        49        2        7.5\n",
       "5      164    58     290   98     16   20  2.828        14        6       10.0\n",
       "6      166    51     480  109     90   26  3.255        78        9        7.2\n",
       "7      169    62     610  120     24   19  2.726        10        5        4.2\n",
       "8      170    70     840  122     48   30  2.429       130       10        3.5\n",
       "9      170    72     330   92     24   20  2.361        20        3        9.5\n",
       "10     171    73     560  110     16   28  2.342        86        8        7.8\n",
       "11     171    64     450  102     48   21  2.672        29        4        8.0\n",
       "12     172    73     350  108     32   26  2.356        75        7        6.0\n",
       "13     174    68     310  100     48   21  2.559        22        4        4.8\n",
       "14     176    81     380  104     64   20  2.173        32        1        8.6\n",
       "15     176    84     340  104     48   19  2.095        21        5       10.0\n",
       "16     178    76     660  128     90   27  2.342        96        8        4.5\n",
       "17     181    90     450  106     48   26  2.011        70        9       12.5\n",
       "18     183    68     540  105     32   23  2.691        59        6       10.5\n",
       "19     192    95     750  117     60   27  2.021        98        4        6.5"
      ]
     },
     "metadata": {},
     "output_type": "display_data"
    }
   ],
   "source": [
    "df = pd.read_csv(\"/Users/user/Desktop/BSU/OAID/oiad-3-2025/datasets/students_simple.csv\")\n",
    "display(df)"
   ]
  },
  {
   "cell_type": "code",
   "execution_count": 173,
   "id": "b3cc669b",
   "metadata": {},
   "outputs": [
    {
     "data": {
      "text/plain": [
       "'income'"
      ]
     },
     "execution_count": 173,
     "metadata": {},
     "output_type": "execute_result"
    }
   ],
   "source": [
    "df.columns[2]"
   ]
  },
  {
   "cell_type": "code",
   "execution_count": 174,
   "id": "e52b1771",
   "metadata": {},
   "outputs": [
    {
     "name": "stdout",
     "output_type": "stream",
     "text": [
      "Первая колонка:\n",
      "    Номер: 2\n",
      "    Название: income\n",
      "Вторая колонка:\n",
      "    Номер: 9\n",
      "    Название: test_time\n"
     ]
    }
   ],
   "source": [
    "number: int = 7\n",
    "num_first_column: int = number % 5\n",
    "num_second_column: int = number ** 2 % 5 + 5\n",
    "first_column: str = df.columns[num_first_column]\n",
    "second_column: str = df.columns[num_second_column]\n",
    "print(f\"Первая колонка:\\n    Номер: {num_first_column}\\n    Название: {first_column}\\nВторая колонка:\\n    Номер: {num_second_column}\\n    Название: {second_column}\")"
   ]
  },
  {
   "cell_type": "code",
   "execution_count": 178,
   "id": "aa1d4a97",
   "metadata": {},
   "outputs": [
    {
     "data": {
      "text/html": [
       "<div>\n",
       "<style scoped>\n",
       "    .dataframe tbody tr th:only-of-type {\n",
       "        vertical-align: middle;\n",
       "    }\n",
       "\n",
       "    .dataframe tbody tr th {\n",
       "        vertical-align: top;\n",
       "    }\n",
       "\n",
       "    .dataframe thead th {\n",
       "        text-align: right;\n",
       "    }\n",
       "</style>\n",
       "<table border=\"1\" class=\"dataframe\">\n",
       "  <thead>\n",
       "    <tr style=\"text-align: right;\">\n",
       "      <th></th>\n",
       "      <th>income</th>\n",
       "      <th>test_time</th>\n",
       "    </tr>\n",
       "  </thead>\n",
       "  <tbody>\n",
       "    <tr>\n",
       "      <th>0</th>\n",
       "      <td>430</td>\n",
       "      <td>8.5</td>\n",
       "    </tr>\n",
       "    <tr>\n",
       "      <th>1</th>\n",
       "      <td>640</td>\n",
       "      <td>6.2</td>\n",
       "    </tr>\n",
       "    <tr>\n",
       "      <th>2</th>\n",
       "      <td>610</td>\n",
       "      <td>6.8</td>\n",
       "    </tr>\n",
       "    <tr>\n",
       "      <th>3</th>\n",
       "      <td>330</td>\n",
       "      <td>12.0</td>\n",
       "    </tr>\n",
       "    <tr>\n",
       "      <th>4</th>\n",
       "      <td>420</td>\n",
       "      <td>7.5</td>\n",
       "    </tr>\n",
       "    <tr>\n",
       "      <th>5</th>\n",
       "      <td>290</td>\n",
       "      <td>10.0</td>\n",
       "    </tr>\n",
       "    <tr>\n",
       "      <th>6</th>\n",
       "      <td>480</td>\n",
       "      <td>7.2</td>\n",
       "    </tr>\n",
       "    <tr>\n",
       "      <th>7</th>\n",
       "      <td>610</td>\n",
       "      <td>4.2</td>\n",
       "    </tr>\n",
       "    <tr>\n",
       "      <th>8</th>\n",
       "      <td>840</td>\n",
       "      <td>3.5</td>\n",
       "    </tr>\n",
       "    <tr>\n",
       "      <th>9</th>\n",
       "      <td>330</td>\n",
       "      <td>9.5</td>\n",
       "    </tr>\n",
       "    <tr>\n",
       "      <th>10</th>\n",
       "      <td>560</td>\n",
       "      <td>7.8</td>\n",
       "    </tr>\n",
       "    <tr>\n",
       "      <th>11</th>\n",
       "      <td>450</td>\n",
       "      <td>8.0</td>\n",
       "    </tr>\n",
       "    <tr>\n",
       "      <th>12</th>\n",
       "      <td>350</td>\n",
       "      <td>6.0</td>\n",
       "    </tr>\n",
       "    <tr>\n",
       "      <th>13</th>\n",
       "      <td>310</td>\n",
       "      <td>4.8</td>\n",
       "    </tr>\n",
       "    <tr>\n",
       "      <th>14</th>\n",
       "      <td>380</td>\n",
       "      <td>8.6</td>\n",
       "    </tr>\n",
       "    <tr>\n",
       "      <th>15</th>\n",
       "      <td>340</td>\n",
       "      <td>10.0</td>\n",
       "    </tr>\n",
       "    <tr>\n",
       "      <th>16</th>\n",
       "      <td>660</td>\n",
       "      <td>4.5</td>\n",
       "    </tr>\n",
       "    <tr>\n",
       "      <th>17</th>\n",
       "      <td>450</td>\n",
       "      <td>12.5</td>\n",
       "    </tr>\n",
       "    <tr>\n",
       "      <th>18</th>\n",
       "      <td>540</td>\n",
       "      <td>10.5</td>\n",
       "    </tr>\n",
       "    <tr>\n",
       "      <th>19</th>\n",
       "      <td>750</td>\n",
       "      <td>6.5</td>\n",
       "    </tr>\n",
       "  </tbody>\n",
       "</table>\n",
       "</div>"
      ],
      "text/plain": [
       "    income  test_time\n",
       "0      430        8.5\n",
       "1      640        6.2\n",
       "2      610        6.8\n",
       "3      330       12.0\n",
       "4      420        7.5\n",
       "5      290       10.0\n",
       "6      480        7.2\n",
       "7      610        4.2\n",
       "8      840        3.5\n",
       "9      330        9.5\n",
       "10     560        7.8\n",
       "11     450        8.0\n",
       "12     350        6.0\n",
       "13     310        4.8\n",
       "14     380        8.6\n",
       "15     340       10.0\n",
       "16     660        4.5\n",
       "17     450       12.5\n",
       "18     540       10.5\n",
       "19     750        6.5"
      ]
     },
     "metadata": {},
     "output_type": "display_data"
    }
   ],
   "source": [
    "my_df = df.iloc[:, [num_first_column, num_second_column]]\n",
    "display(my_df)"
   ]
  },
  {
   "cell_type": "markdown",
   "id": "1c23cebf",
   "metadata": {},
   "source": [
    "## 1. Расчет корреляций\n",
    "1. Фехнера\n",
    "2. Пирсона + доверительный интервал\n",
    "3. Спирмена\n",
    "4. Кенделла"
   ]
  },
  {
   "cell_type": "code",
   "execution_count": 185,
   "id": "2567bab5",
   "metadata": {},
   "outputs": [],
   "source": [
    "def corr_fechner(df: pd.DataFrame, first_column: str, second_column: str) -> float:\n",
    "    \"\"\"\n",
    "    Compute Fechner correlation\n",
    "    \"\"\"\n",
    "    X: np.array = df[first_column].to_numpy()\n",
    "    Y: np.array = df[second_column].to_numpy()\n",
    "    mean_X: float = np.mean(X)\n",
    "    mean_Y: float = np.mean(Y)\n",
    "    n_samples: int = X.shape[0] ** 2\n",
    "    num_pos: int = 0\n",
    "    num_neg: int = 0\n",
    "    for x in X:\n",
    "        for y in Y:\n",
    "            if (x - mean_X) * (y - mean_Y) > 0:\n",
    "                num_pos += 1\n",
    "            elif (x - mean_X) * (y - mean_Y) < 0:\n",
    "                num_neg += 1\n",
    "    return (num_pos - num_neg) / n_samples"
   ]
  },
  {
   "cell_type": "code",
   "execution_count": 186,
   "id": "a6cf29cc",
   "metadata": {},
   "outputs": [
    {
     "name": "stdout",
     "output_type": "stream",
     "text": [
      "Корреляция Фехнера между income и test_time: 0.0\n"
     ]
    }
   ],
   "source": [
    "print(f\"Корреляция Фехнера между {first_column} и {second_column}: {corr_fechner(my_df, first_column, second_column)}\")"
   ]
  },
  {
   "cell_type": "code",
   "execution_count": 187,
   "id": "208fdcd5",
   "metadata": {},
   "outputs": [],
   "source": [
    "def corr_pearson(df: pd.DataFrame, first_column: str, second_column: str) -> float:\n",
    "    \"\"\"\n",
    "    Compute Pearson correlation\n",
    "    \"\"\"\n",
    "    X: np.array = df[first_column].to_numpy()\n",
    "    Y: np.array = df[second_column].to_numpy()\n",
    "    mean_X: float = np.mean(X)\n",
    "    mean_Y: float = np.mean(Y)\n",
    "    corr: float = np.sum((X - mean_X) * (Y - mean_Y))\n",
    "    norm_corr: float = np.sqrt(np.sum((X - mean_X) ** 2) * np.sum((Y - mean_Y) ** 2))\n",
    "    return corr / norm_corr"
   ]
  },
  {
   "cell_type": "code",
   "execution_count": 188,
   "id": "33005e5f",
   "metadata": {},
   "outputs": [
    {
     "name": "stdout",
     "output_type": "stream",
     "text": [
      "Корреляция Пирсона между income и test_time: -0.5698939517430254\n"
     ]
    }
   ],
   "source": [
    "print(f\"Корреляция Пирсона между {first_column} и {second_column}: {corr_pearson(my_df, first_column, second_column)}\")"
   ]
  },
  {
   "cell_type": "code",
   "execution_count": 189,
   "id": "35b0be56",
   "metadata": {},
   "outputs": [],
   "source": [
    "def confidence_interval(df: pd.DataFrame, first_column: str, second_column: str, confidence_level: float = 0.95) -> tuple[float, float]:\n",
    "    \"\"\"\n",
    "    Computer Pearson confidence interval\n",
    "    \"\"\"\n",
    "    corr: float = corr_pearson(df, first_column, second_column)\n",
    "    num_samples: int = df[first_column].shape[0]\n",
    "    z_trans: float = np.log((1 + corr) / (1 - corr)) / 2\n",
    "    stand_err: float = 1 / np.sqrt(num_samples - 3)\n",
    "    z_crit: float = stats.norm.ppf(1 - (1 - confidence_level) / 2)\n",
    "    z_low: float = z_trans - z_crit * stand_err\n",
    "    z_high: float = z_trans + z_crit * stand_err\n",
    "    left_bouder: float = (np.exp(2 * z_low) - 1) / (np.exp(2 * z_low) + 1)\n",
    "    right_bouder: float = (np.exp(2 * z_high) - 1) / (np.exp(2 * z_high) + 1)\n",
    "    return (left_bouder, right_bouder)"
   ]
  },
  {
   "cell_type": "code",
   "execution_count": 190,
   "id": "6d331162",
   "metadata": {},
   "outputs": [
    {
     "name": "stdout",
     "output_type": "stream",
     "text": [
      "0.95% доверительный интервал: [-0.809, -0.170]\n"
     ]
    }
   ],
   "source": [
    "confidence_level: float = 0.95\n",
    "left_bound, right_bound = confidence_interval(my_df, first_column, second_column, confidence_level)\n",
    "print(f\"{confidence_level}% доверительный интервал: [{left_bound:.3f}, {right_bound:.3f}]\")"
   ]
  },
  {
   "cell_type": "code",
   "execution_count": 191,
   "id": "91da705b",
   "metadata": {},
   "outputs": [],
   "source": [
    "def corr_spearman(df: pd.DataFrame, first_column: str, second_column: str) -> float:\n",
    "    \"\"\"\n",
    "    Computer Spearman correlation\n",
    "    \"\"\"\n",
    "    X: np.array = df[first_column].to_numpy()\n",
    "    n_samples: int = X.shape[0]\n",
    "    X_position: np.array = np.array([x for x in range(n_samples)])\n",
    "    X_stack = np.vstack((X, X_position)).T\n",
    "\n",
    "    Y: np.ndarray = df[second_column].to_numpy()\n",
    "    Y_position: np.ndarray= np.array([x for x in range(n_samples)])\n",
    "    Y_stack = np.vstack((Y, Y_position)).T\n",
    "\n",
    "    X_stack = X_stack[X_stack[:, 0].argsort()]\n",
    "    Y_stack = Y_stack[Y_stack[:, 0].argsort()]\n",
    "\n",
    "    rank: np.array = np.array([x + 1 for x in range(n_samples)])\n",
    "    X_pos_rank: np.ndarray = np.column_stack((X_stack, rank))\n",
    "    Y_pos_rank: np.ndarray = np.column_stack((Y_stack, rank))\n",
    "\n",
    "    X_pos_rank = X_pos_rank[X_pos_rank[:, 1].argsort()]\n",
    "    Y_pos_rank = Y_pos_rank[Y_pos_rank[:, 1].argsort()]\n",
    "\n",
    "    diff_rank: np.array = X_pos_rank[:, 2] - Y_pos_rank[:, 2]\n",
    "    norm_coef_spearman: float = n_samples * (n_samples ** 2 - 1)\n",
    "\n",
    "    return 1 - 6 * np.sum(diff_rank ** 2) / norm_coef_spearman"
   ]
  },
  {
   "cell_type": "code",
   "execution_count": 192,
   "id": "a3ef0bd7",
   "metadata": {},
   "outputs": [
    {
     "name": "stdout",
     "output_type": "stream",
     "text": [
      "Корреляция Спирмена между income и test_time: -0.5308270676691729\n"
     ]
    }
   ],
   "source": [
    "print(f\"Корреляция Спирмена между {first_column} и {second_column}: {corr_spearman(my_df, first_column, second_column)}\")"
   ]
  },
  {
   "cell_type": "code",
   "execution_count": 193,
   "id": "f8ae0cf1",
   "metadata": {},
   "outputs": [],
   "source": [
    "def corr_kendall(df: pd.DataFrame, first_column: str, second_column: str) -> float:\n",
    "    \"\"\"\n",
    "    Computer Kendall correlation\n",
    "    \"\"\"\n",
    "    X: np.array = df[first_column].to_numpy()\n",
    "    n_samples: int = X.shape[0]\n",
    "    Y: np.ndarray = np.array(df[second_column])\n",
    "    n_pos: int = 0\n",
    "    n_neg: int = 0\n",
    "    for j in range(n_samples):\n",
    "        for i in range(j):\n",
    "            if (X[i] - X[j]) * (Y[i] - Y[j]) > 0:\n",
    "                n_pos += 1\n",
    "            elif (X[i] - X[j]) * (Y[i] - Y[j]) < 0:\n",
    "                n_neg += 1\n",
    "    norm_coef: float = n_samples * (n_samples - 1) / 2\n",
    "    return (n_pos - n_neg) / norm_coef"
   ]
  },
  {
   "cell_type": "code",
   "execution_count": 194,
   "id": "30970664",
   "metadata": {},
   "outputs": [
    {
     "name": "stdout",
     "output_type": "stream",
     "text": [
      "Корреляция Кенделла между income и test_time: -0.43157894736842106\n"
     ]
    }
   ],
   "source": [
    "print(f\"Корреляция Кенделла между {first_column} и {second_column}: {corr_kendall(my_df, first_column, second_column)}\")"
   ]
  },
  {
   "cell_type": "markdown",
   "id": "21b5e6dd",
   "metadata": {},
   "source": [
    "## Выводы\n",
    "\n",
    "1. Корреляция Фехнера = 0.0\n",
    "\n",
    "Корреляция Фехнера просто сравнивает направление отклонений (+/−) относительно средних значений.\n",
    "\n",
    "Значение 0.0 говорит о полном балансе положительных и отрицательных совпадений знаков — то есть, тенденция зависимости по знаку не выражена.\n",
    "\n",
    "2. Корреляция Пирсона = −0.57 (p ≈ <0.05)\n",
    "\n",
    "95% доверительный интервал: [−0.81; −0.17]\n",
    "\n",
    "Отрицательная корреляция.\n",
    "\n",
    "Чем больше доход, тем меньше время теста (то есть тест выполняется быстрее).\n",
    "\n",
    "Интервал не включает 0, значит, связь статистически значима.\n",
    "\n",
    "Поскольку доверительный интервал довольно широкий, есть некоторая неопределённость в точной силе связи, но направление явно отрицательное.\n",
    "\n",
    "3. Корреляция Спирмена = −0.53\n",
    "\n",
    "Спирмен оценивает монотонную (не обязательно линейную) зависимость.\n",
    "\n",
    "Значение близкое к корреляции Пирсона (−0.57) подтверждает, что зависимость приблизительно монотонная.\n",
    "\n",
    "То есть при увеличении дохода время теста, как правило, уменьшается, но не обязательно по прямой линии.\n",
    "\n",
    "4. Корреляция Кенделла = −0.43\n",
    "\n",
    "Это ещё один ранговый коэффициент, более «робастный» (устойчив к выбросам).\n",
    "\n",
    "Значение −0.43 подтверждает те же тенденции, что и Спирмен, только в более сжатой шкале.\n",
    "\n",
    "По шкале Кенделла это тоже умеренно сильная отрицательная связь."
   ]
  },
  {
   "cell_type": "markdown",
   "id": "7d74c661",
   "metadata": {},
   "source": [
    "## 2. Визуализация\n",
    "1. Гистограммы\n",
    "2. График рассеяния (scatter plot)"
   ]
  },
  {
   "cell_type": "code",
   "execution_count": 198,
   "id": "acd35a47",
   "metadata": {},
   "outputs": [],
   "source": [
    "def print_hist_column(column: str, df: pd.DataFrame, bins: int = 20, color: str = 'skyblue') -> None:\n",
    "    if column not in df.columns:\n",
    "        print(f\"Error: Column '{column}' not found in DataFrame.\")\n",
    "        return\n",
    "    data = df[column]\n",
    "    plt.figure(figsize=(8, 5))\n",
    "    plt.hist(data, bins=bins, color=color, edgecolor='black')\n",
    "    plt.title(f'Distribution of {column}', fontsize=14)\n",
    "    plt.xlabel(column, fontsize=12)\n",
    "    plt.ylabel('Frequency', fontsize=12)\n",
    "    plt.grid(axis='y', alpha=0.3)\n",
    "    plt.show()"
   ]
  },
  {
   "cell_type": "code",
   "execution_count": 199,
   "id": "cfcc631e",
   "metadata": {},
   "outputs": [
    {
     "data": {
      "image/png": "[encoded data removed]",
      "text/plain": [
       "<Figure size 800x500 with 1 Axes>"
      ]
     },
     "metadata": {},
     "output_type": "display_data"
    }
   ],
   "source": [
    "print_hist_column(first_column, my_df)"
   ]
  },
  {
   "cell_type": "code",
   "execution_count": 200,
   "id": "f0f29a45",
   "metadata": {},
   "outputs": [
    {
     "data": {
      "image/png": "[encoded data removed]",
      "text/plain": [
       "<Figure size 800x500 with 1 Axes>"
      ]
     },
     "metadata": {},
     "output_type": "display_data"
    }
   ],
   "source": [
    "print_hist_column(second_column, my_df)"
   ]
  },
  {
   "cell_type": "code",
   "execution_count": 204,
   "id": "6f5517b3",
   "metadata": {},
   "outputs": [],
   "source": [
    "def print_scatter(df: pd.DataFrame, x_col: str, y_col: str, fig_size: tuple[int, int] = (8, 6)) -> None:\n",
    "    \"\"\"\n",
    "    Plots a scatter plot for two numeric features from the given DataFrame.\n",
    "    \n",
    "    The scatter plot visualizes the relationship between two variables,\n",
    "    helping to identify potential linear or nonlinear correlations and outliers.\n",
    "    \n",
    "    :param df: DataFrame containing numeric features\n",
    "    :param x_col: Name of the column to plot on the X-axis\n",
    "    :param y_col: Name of the column to plot on the Y-axis\n",
    "    :param fig_size: Tuple specifying figure size in inches (default = (8, 6))\n",
    "    :return: None\n",
    "    \"\"\"\n",
    "    plt.figure(figsize=fig_size)\n",
    "    sns.scatterplot(\n",
    "        data=df,\n",
    "        x=x_col,\n",
    "        y=y_col,\n",
    "        color=\"steelblue\",\n",
    "        edgecolor=\"white\",\n",
    "        s=70,\n",
    "        alpha=0.7\n",
    "    )\n",
    "    \n",
    "    plt.title(f\"Scatter Plot: {x_col} vs {y_col}\", fontsize=14, fontweight=\"bold\", pad=12)\n",
    "    plt.xlabel(x_col, fontsize=12)\n",
    "    plt.ylabel(y_col, fontsize=12)\n",
    "    plt.grid(True, linestyle=\"--\", alpha=0.5)\n",
    "    plt.tight_layout()\n",
    "    plt.show()"
   ]
  },
  {
   "cell_type": "code",
   "execution_count": 207,
   "id": "f82e44b2",
   "metadata": {},
   "outputs": [
    {
     "data": {
      "image/png": "[encoded data removed]",
      "text/plain": [
       "<Figure size 800x600 with 1 Axes>"
      ]
     },
     "metadata": {},
     "output_type": "display_data"
    }
   ],
   "source": [
    "print_scatter(my_df, first_column, second_column)"
   ]
  },
  {
   "cell_type": "markdown",
   "id": "54de5e9e",
   "metadata": {},
   "source": [
    "## 3. Уравнение регрессии\n",
    "Построить уравнение регрессии по видам:\n",
    "1. линейная, $y=w_1 x + w_0$\n",
    "2. квадратичная, $y = w_2 x^2 + w_1 x + w_0$\n",
    "3. гиперболическая, $y = \\frac{w_1}{x} + w_0$ \n",
    "4. показательная, $y = w_1^x \\cdot w_0$"
   ]
  },
  {
   "cell_type": "code",
   "execution_count": 208,
   "id": "f9afd947",
   "metadata": {},
   "outputs": [],
   "source": [
    "x: np.array = df[first_column].to_numpy()\n",
    "y: np.array = df[second_column].to_numpy()"
   ]
  },
  {
   "cell_type": "code",
   "execution_count": 211,
   "id": "7b9114d3",
   "metadata": {},
   "outputs": [
    {
     "name": "stdout",
     "output_type": "stream",
     "text": [
      "Коэффициенты линейной регрессии: w1 = -0.0092, w0 = 12.2089\n",
      "Уравнение: y = -0.0092 * x + 12.2089\n"
     ]
    }
   ],
   "source": [
    "w1, w0 = np.polyfit(x, y, 1)\n",
    "print(f\"Коэффициенты линейной регрессии: w1 = {w1:.4f}, w0 = {w0:.4f}\")\n",
    "print(f\"Уравнение: y = {w1:.4f} * x + {w0:.4f}\")"
   ]
  },
  {
   "cell_type": "code",
   "execution_count": 212,
   "id": "7d9d7a7a",
   "metadata": {},
   "outputs": [
    {
     "name": "stdout",
     "output_type": "stream",
     "text": [
      "Коэффициенты квадратичной регрессии: w2 = -0.0000, w1 = 0.0097, w0 = 7.6017\n",
      "Уравнение: y = -0.0000 * x ^ 2 + 0.0097 * x + 7.6017\n"
     ]
    }
   ],
   "source": [
    "w2, w1, w0 = np.polyfit(x, y, 2)\n",
    "print(f\"Коэффициенты квадратичной регрессии: w2 = {w2:.4f}, w1 = {w1:.4f}, w0 = {w0:.4f}\")\n",
    "print(f\"Уравнение: y = {w2:.4f} * x ^ 2 + {w1:.4f} * x + {w0:.4f}\")"
   ]
  },
  {
   "cell_type": "code",
   "execution_count": 220,
   "id": "447d0bab",
   "metadata": {},
   "outputs": [
    {
     "name": "stdout",
     "output_type": "stream",
     "text": [
      "Коэффициенты гиперболической регрессии: w1 = 1832.3465, w0 = 3.6149\n",
      "Уравнение: y = 1832.3465 / x + 3.6149\n"
     ]
    }
   ],
   "source": [
    "w1, w0 = np.polyfit(1 / x, y, 1)\n",
    "print(f\"Коэффициенты гиперболической регрессии: w1 = {w1:.4f}, w0 = {w0:.4f}\")\n",
    "print(f\"Уравнение: y = {w1:.4f} / x + {w0:.4f}\")"
   ]
  },
  {
   "cell_type": "code",
   "execution_count": 221,
   "id": "ed71fd7d",
   "metadata": {},
   "outputs": [
    {
     "name": "stdout",
     "output_type": "stream",
     "text": [
      "Коэффициенты показательной регрессии: w0 = 14.1216, w1 = 0.9987\n",
      "Уравнение: y = 14.1216 * 0.9987^x\n"
     ]
    }
   ],
   "source": [
    "# ln(y) = ln(w0) + x * ln(w1)\n",
    "mask = y > 0\n",
    "x_safe = x[mask]\n",
    "y_safe = y[mask]\n",
    "\n",
    "ln_y = np.log(y_safe)\n",
    "\n",
    "w1_log, w0_log = np.polyfit(x_safe, ln_y, 1)\n",
    "\n",
    "w0 = np.exp(w0_log)\n",
    "w1 = np.exp(w1_log)\n",
    "\n",
    "print(f\"Коэффициенты показательной регрессии: w0 = {w0:.4f}, w1 = {w1:.4f}\")\n",
    "print(f\"Уравнение: y = {w0:.4f} * {w1:.4f}^x\")"
   ]
  },
  {
   "cell_type": "markdown",
   "id": "cfe81106",
   "metadata": {},
   "source": [
    "## Выводы\n",
    "\n",
    "### **1. Линейная регрессия**\n",
    "\n",
    "$y = -0.0092x + 12.2089$ \n",
    "\n",
    "- Отрицательный коэффициент $w_1 = -0.0092$ показывает **слабую обратную зависимость** между переменными.  \n",
    "- При увеличении $x$, значение $y$ незначительно уменьшается.\n",
    "\n",
    "---\n",
    "\n",
    "### **2. Квадратичная регрессия**\n",
    "\n",
    "$y = -0.0000x^2 + 0.0097x + 7.6017$\n",
    "\n",
    "- Квадратный коэффициент $w_2 \\approx 0$ указывает, что **нелинейность несущественна**.  \n",
    "- Модель практически эквивалентна линейной.\n",
    "\n",
    "---\n",
    "\n",
    "### **3. Гиперболическая регрессия**\n",
    "\n",
    "$y = \\frac{1832.3465}{x} + 3.6149$\n",
    "\n",
    "- Большой коэффициент $w_1 = 1832.35$ говорит, что при малых $x$ значение $y$ **резко возрастает**,  \n",
    "  но затем **быстро стабилизируется** при росте $x$.\n",
    "\n",
    "---\n",
    "\n",
    "### **4. Показательная регрессия**\n",
    "\n",
    "$y = 14.1216 \\cdot 0.9987^x$\n",
    "\n",
    "- Так как $w_1 = 0.9987 < 1$, функция является **затухающей**.  \n",
    "- $y$ **медленно убывает** с увеличением $x$.\n",
    "\n",
    "---\n",
    "\n",
    "### **📈 Итог**\n",
    "- Наиболее адекватными моделями являются **линейная** и **показательная**.  \n",
    "- Обе отражают **слабую отрицательную зависимость** между переменными.\n"
   ]
  },
  {
   "cell_type": "markdown",
   "id": "7dfee9ac",
   "metadata": {},
   "source": [
    "## 4. Проверка уравнения регрессии\n",
    "Для наилучшего и наихудшего уравнения регрессии проверить соотвествие модели данным с помощью критерия Фишера"
   ]
  },
  {
   "cell_type": "markdown",
   "id": "5ea6f20e",
   "metadata": {},
   "source": [
    "## 🔹 Алгоритм проверки уравнения регрессии (критерий Фишера)\n",
    "\n",
    "1. **Вычислить среднее значение:**\n",
    "   $ \\bar{y} = \\frac{1}{n} \\sum_{i=1}^{n} y_i $\n",
    "\n",
    "2. **Вычислить суммы квадратов:**\n",
    "   - **Общая дисперсия:**\n",
    "     $ S_t = \\sum (y_i - \\bar{y})^2 $\n",
    "   - **Объяснённая регрессией:**\n",
    "     $ S_r = \\sum (\\hat{y}_i - \\bar{y})^2 $\n",
    "   - **Остаточная (ошибки):**\n",
    "     $ S_e = \\sum (y_i - \\hat{y}_i)^2 $\n",
    "\n",
    "3. **Вычислить наблюдаемое значение критерия Фишера:**\n",
    "   $ F = \\frac{S_r / k}{S_e / (n - k - 1)} $\n",
    "\n",
    "   где  \n",
    "   $ n $ — количество наблюдений,  \n",
    "   $ k $ — число коэффициентов модели (без свободного члена).\n",
    "\n",
    "4. **Найти критическое значение:**\n",
    "   $ F_{\\text{кр}} = F_{1 - \\alpha}(k, n - k - 1) $\n",
    "\n",
    "   (по таблице распределения Фишера при уровне значимости $ \\alpha = 0.05 $)\n",
    "\n",
    "5. **Сделать вывод:**\n",
    "   - Если $ F > F_{\\text{кр}} $ → **модель значима**  \n",
    "   - Если $ F \\le F_{\\text{кр}} $ → **модель незначима**\n",
    "\n"
   ]
  },
  {
   "cell_type": "code",
   "execution_count": 227,
   "id": "c4388db3",
   "metadata": {},
   "outputs": [],
   "source": [
    "def fisher_test(x: np.ndarray, y: np.ndarray, y_pred: np.ndarray, k: int, model_name: str):\n",
    "    n = len(x)\n",
    "    y_mean = np.mean(y)\n",
    "\n",
    "    S_t = np.sum((y - y_mean) ** 2)\n",
    "    S_r = np.sum((y_pred - y_mean) ** 2)\n",
    "    S_e = np.sum((y - y_pred) ** 2)\n",
    "\n",
    "    F = (S_r / k) / (S_e / (n - k - 1))\n",
    "    F_crit = stats.f.ppf(0.95, k, n - k - 1)\n",
    "\n",
    "    print(f\"{model_name}\")\n",
    "    print(f\"F = {F:.3f}, F_кр = {F_crit:.3f}\")\n",
    "    if F > F_crit:\n",
    "        print(\"Модель значима (хорошо описывает данные)\")\n",
    "    else:\n",
    "        print(\"Модель незначима (плохое соответствие данным)\")\n",
    "    print(\"-\" * 60)\n",
    "    return F, F_crit"
   ]
  },
  {
   "cell_type": "code",
   "execution_count": 232,
   "id": "35f6b5e6",
   "metadata": {},
   "outputs": [
    {
     "name": "stdout",
     "output_type": "stream",
     "text": [
      "Линейная модель\n",
      "F = 8.658, F_кр = 4.414\n",
      "Модель значима (хорошо описывает данные)\n",
      "------------------------------------------------------------\n"
     ]
    }
   ],
   "source": [
    "w1, w0 = np.polyfit(x, y, 1)\n",
    "y_pred_lin = w1 * x + w0\n",
    "F, F_crit = fisher_test(x, y, y_pred_lin, k=1, model_name=\"Линейная модель\")"
   ]
  },
  {
   "cell_type": "code",
   "execution_count": 233,
   "id": "f521d16c",
   "metadata": {},
   "outputs": [
    {
     "name": "stdout",
     "output_type": "stream",
     "text": [
      "Квадратичная модель\n",
      "F = 4.661, F_кр = 3.592\n",
      "Модель значима (хорошо описывает данные)\n",
      "------------------------------------------------------------\n"
     ]
    }
   ],
   "source": [
    "w2, w1, w0 = np.polyfit(x, y, 2)\n",
    "y_pred_quad = w2 * x**2 + w1 * x + w0\n",
    "F, F_crit = fisher_test(x, y, y_pred_quad, k=2, model_name=\"Квадратичная модель\")"
   ]
  },
  {
   "cell_type": "code",
   "execution_count": 234,
   "id": "c9c7509a",
   "metadata": {},
   "outputs": [
    {
     "name": "stdout",
     "output_type": "stream",
     "text": [
      "Гиперболическая модель\n",
      "F = 5.771, F_кр = 4.414\n",
      "Модель значима (хорошо описывает данные)\n",
      "------------------------------------------------------------\n"
     ]
    }
   ],
   "source": [
    "w1, w0 = np.polyfit(1 / x, y, 1)\n",
    "y_pred_hyp = w1 / x + w0\n",
    "F, F_crit = fisher_test(x, y, y_pred_hyp, k=1, model_name=\"Гиперболическая модель\")"
   ]
  },
  {
   "cell_type": "code",
   "execution_count": 235,
   "id": "6a2dccff",
   "metadata": {},
   "outputs": [
    {
     "name": "stdout",
     "output_type": "stream",
     "text": [
      "Показательная модель\n",
      "F = 8.969, F_кр = 4.414\n",
      "Модель значима (хорошо описывает данные)\n",
      "------------------------------------------------------------\n"
     ]
    }
   ],
   "source": [
    "ln_y = np.log(y)\n",
    "b, a = np.polyfit(x, ln_y, 1)\n",
    "w1, w0 = np.exp(b), np.exp(a)\n",
    "y_pred_exp = w0 * (w1 ** x)\n",
    "F, F_crit = fisher_test(x, y, y_pred_exp, k=1, model_name=\"Показательная модель\")"
   ]
  }
 ],
 "metadata": {
  "kernelspec": {
   "display_name": ".venv (3.12.3)",
   "language": "python",
   "name": "python3"
  },
  "language_info": {
   "codemirror_mode": {
    "name": "ipython",
    "version": 3
   },
   "file_extension": ".py",
   "mimetype": "text/x-python",
   "name": "python",
   "nbconvert_exporter": "python",
   "pygments_lexer": "ipython3",
   "version": "3.12.3"
  }
 },
 "nbformat": 4,
 "nbformat_minor": 5
}
