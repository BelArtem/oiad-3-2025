{
 "cells": [
  {
   "cell_type": "code",
   "execution_count": null,
   "id": "9ab8559f",
   "metadata": {
    "vscode": {
     "languageId": "plaintext"
    }
   },
   "outputs": [],
   "source": [
    "import pandas as pd\n",
    "import numpy as np\n",
    "import matplotlib.pyplot as plt\n",
    "import seaborn as sns\n",
    "from scipy import stats\n",
    "from scipy.optimize import curve_fit\n",
    "from sklearn.metrics import r2_score\n",
    "import warnings\n",
    "warnings.filterwarnings('ignore')\n",
    "\n",
    "# Загрузка данных\n",
    "df = pd.read_csv('datasets/students_simple.csv')  # ← замените путь при необходимости\n",
    "\n",
    "# Номер в списке\n",
    "N = 24\n",
    "\n",
    "# Выбор столбцов по формулам\n",
    "col1_index = N % 5           # 24 % 5 = 4\n",
    "col2_index = (N**2) % 5 + 5  # (576 % 5) + 5 = 1 + 5 = 6\n",
    "\n",
    "# Получаем названия столбцов (предполагается, что столбцы нумеруются с 0)\n",
    "columns = df.columns.tolist()\n",
    "x_col = columns[col1_index]\n",
    "y_col = columns[col2_index]\n",
    "\n",
    "print(f\"Выбранные столбцы: {x_col} (X) и {y_col} (Y)\")"
   ]
  },
  {
   "cell_type": "code",
   "execution_count": null,
   "id": "acdf616f",
   "metadata": {
    "vscode": {
     "languageId": "plaintext"
    }
   },
   "outputs": [],
   "source": []
  }
 ],
 "metadata": {
  "language_info": {
   "name": "python"
  }
 },
 "nbformat": 4,
 "nbformat_minor": 5
}
