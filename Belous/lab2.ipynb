{
 "cells": [
  {
   "cell_type": "code",
   "execution_count": 1,
   "id": "9486e971",
   "metadata": {},
   "outputs": [],
   "source": [
    "import numpy as np"
   ]
  },
  {
   "cell_type": "code",
   "execution_count": 2,
   "id": "67459656",
   "metadata": {},
   "outputs": [
    {
     "name": "stdout",
     "output_type": "stream",
     "text": [
      "height age\n"
     ]
    }
   ],
   "source": [
    "N = 5\n",
    "cols = ['height', 'mass', 'income', 'iq', 'pages', 'age', 'bmi', 'work_exp', 'friends', 'test_time']\n",
    "col1 = cols[N % 5]\n",
    "col2 = cols[N*N % 5 + 5]\n",
    "print(col1, col2)"
   ]
  },
  {
   "cell_type": "code",
   "execution_count": 3,
   "id": "7b78b477",
   "metadata": {},
   "outputs": [],
   "source": [
    "import pandas as pd\n",
    "df = pd.read_csv('../datasets/students_simple.csv')\n",
    "x = df[col1]\n",
    "y = df[col2]"
   ]
  },
  {
   "cell_type": "markdown",
   "id": "da427367",
   "metadata": {},
   "source": [
    "## 1. Расчет корреляций"
   ]
  },
  {
   "cell_type": "markdown",
   "id": "372028d2",
   "metadata": {},
   "source": [
    "**1. Фехнера**"
   ]
  },
  {
   "cell_type": "code",
   "execution_count": 4,
   "id": "94fc4b96",
   "metadata": {},
   "outputs": [],
   "source": [
    "mean_x = x.mean()\n",
    "mean_y = y.mean()\n",
    "n = len(x)"
   ]
  },
  {
   "cell_type": "code",
   "execution_count": 5,
   "id": "929e3b0c",
   "metadata": {},
   "outputs": [
    {
     "name": "stdout",
     "output_type": "stream",
     "text": [
      "Values: N_plus=11, N_minus=9, N_zero=0\n",
      "Fecher correlation coefficient: 0.100000\n"
     ]
    }
   ],
   "source": [
    "N_plus = 0\n",
    "N_minus = 0\n",
    "N_zero = 0\n",
    "for xi, yi in zip(x,y):\n",
    "    sx = np.sign(xi-mean_x)\n",
    "    sy = np.sign(yi - mean_y)\n",
    "    prod = sx*sy\n",
    "    if prod > 0:\n",
    "        N_plus += 1\n",
    "    elif prod < 0:\n",
    "        N_minus += 1\n",
    "    else:\n",
    "        N_zero += 1\n",
    "\n",
    "N_pairs_used = N_plus + N_minus\n",
    "if N_pairs_used == 0:\n",
    "    Fechner = float('nan')\n",
    "else:\n",
    "    Fechner = (N_plus - N_minus) / N_pairs_used\n",
    "\n",
    "print(f\"Values: N_plus={N_plus}, N_minus={N_minus}, N_zero={N_zero}\")\n",
    "print(f\"Fecher correlation coefficient: {Fechner:.6f}\")"
   ]
  },
  {
   "cell_type": "markdown",
   "id": "fc2c58b9",
   "metadata": {},
   "source": [
    "**2. Пирсона + доверительный интервал**"
   ]
  },
  {
   "cell_type": "code",
   "execution_count": 6,
   "id": "0690a77e",
   "metadata": {},
   "outputs": [
    {
     "name": "stdout",
     "output_type": "stream",
     "text": [
      "Pearson correlation coefficient r: 0.194375\n"
     ]
    }
   ],
   "source": [
    "cov_xy = (np.sum((x - mean_x) * (y - mean_y)) / n)\n",
    "var_x = x.var(ddof=0)\n",
    "var_y = y.var(ddof=0)\n",
    "std_x = np.sqrt(var_x)\n",
    "std_y = np.sqrt(var_y)\n",
    "eps = 10e-8\n",
    "\n",
    "if std_x < eps or std_y < eps:\n",
    "    Pearson_r = float('nan')\n",
    "else:\n",
    "    Pearson_r = cov_xy / (std_x * std_y)\n",
    "\n",
    "print(f\"Pearson correlation coefficient r: {Pearson_r:.6f}\")"
   ]
  },
  {
   "cell_type": "code",
   "execution_count": 7,
   "id": "f7a4eb4a",
   "metadata": {},
   "outputs": [
    {
     "name": "stdout",
     "output_type": "stream",
     "text": [
      "95% confidence interval for correlation coefficient r: [-0.271499, 0.586452]\n"
     ]
    }
   ],
   "source": [
    "if np.isnan(Pearson_r):\n",
    "    print(\"Pearson coeff is nan\")\n",
    "else:\n",
    "    z = 0.5 * np.log((1 + Pearson_r) / (1 - Pearson_r))\n",
    "    se_z = 1.0 / np.sqrt(n - 3)\n",
    "    z_crit = 1.959963984540054\n",
    "    z_lo = z - z_crit * se_z\n",
    "    z_hi = z + z_crit * se_z\n",
    "    r_lo = (np.exp(2 * z_lo) - 1) / (np.exp(2 * z_lo) + 1)\n",
    "    r_hi = (np.exp(2 * z_hi) - 1) / (np.exp(2 * z_hi) + 1)\n",
    "    print(f\"95% confidence interval for correlation coefficient r: [{r_lo:.6f}, {r_hi:.6f}]\")"
   ]
  },
  {
   "cell_type": "markdown",
   "id": "d9eb1e0f",
   "metadata": {},
   "source": [
    "**3. Спирмена**"
   ]
  },
  {
   "cell_type": "code",
   "execution_count": 8,
   "id": "39b3a537",
   "metadata": {},
   "outputs": [],
   "source": [
    "def ranks_avg(col):\n",
    "    return col.rank(method='average').to_numpy()"
   ]
  },
  {
   "cell_type": "code",
   "execution_count": 9,
   "id": "a6cc9a05",
   "metadata": {},
   "outputs": [
    {
     "name": "stdout",
     "output_type": "stream",
     "text": [
      "Spearman's correlation coefficient: 0.175023\n"
     ]
    }
   ],
   "source": [
    "rank_x = ranks_avg(x)\n",
    "rank_y = ranks_avg(y)\n",
    "\n",
    "rank_mean_x = rank_x - rank_x.mean()\n",
    "rank_mean_y = rank_y - rank_y.mean()\n",
    "\n",
    "r_spearman = (np.sum(rank_mean_x * rank_mean_y) /\n",
    "(np.sqrt(np.sum(rank_mean_x**2) * np.sum(rank_mean_y**2))))\n",
    "print(f\"Spearman's correlation coefficient: {r_spearman:.6f}\")"
   ]
  },
  {
   "cell_type": "markdown",
   "id": "7204729b",
   "metadata": {},
   "source": [
    "**4. Кенделла**"
   ]
  },
  {
   "cell_type": "code",
   "execution_count": 10,
   "id": "63eecd51",
   "metadata": {},
   "outputs": [
    {
     "name": "stdout",
     "output_type": "stream",
     "text": [
      "Values: Concordant=96, Discordant=74, Tx=4, Ty=16\n",
      "Kendall tau-b = 0.122290\n"
     ]
    }
   ],
   "source": [
    "C = 0\n",
    "D = 0\n",
    "Tx = 0\n",
    "Ty = 0\n",
    "\n",
    "for i in range(n):\n",
    "    for j in range(i+1, n):\n",
    "        xi, xj = x[i], x[j]\n",
    "        yi, yj = y[i], y[j]\n",
    "        dx = xi - xj\n",
    "        dy = yi - yj\n",
    "        if dx == 0 and dy != 0:\n",
    "            Tx += 1\n",
    "        elif dx != 0 and dy == 0:\n",
    "            Ty += 1\n",
    "        else:\n",
    "            prod = dx * dy\n",
    "            if prod > 0:\n",
    "                C += 1\n",
    "            elif prod < 0:\n",
    "                D += 1\n",
    "\n",
    "num = C - D\n",
    "den = np.sqrt((C + D + Tx) * (C + D + Ty))\n",
    "if den == 0:\n",
    "    kendall_tau_b = float('nan')\n",
    "else:\n",
    "    kendall_tau_b = num / den\n",
    "\n",
    "\n",
    "print(f\"Values: Concordant={C}, Discordant={D}, Tx={Tx}, Ty={Ty}\")\n",
    "print(f\"Kendall tau-b = {kendall_tau_b:.6f}\")"
   ]
  },
  {
   "cell_type": "markdown",
   "id": "e48dfca2",
   "metadata": {},
   "source": [
    "## 2. Визуализация\n",
    "1. Гистограммы\n",
    "2. График рассеяния (scatter plot)"
   ]
  },
  {
   "cell_type": "code",
   "execution_count": 11,
   "id": "7f721e65",
   "metadata": {},
   "outputs": [
    {
     "data": {
      "image/png": "[encoded data removed]",
      "text/plain": [
       "<Figure size 1200x500 with 2 Axes>"
      ]
     },
     "metadata": {},
     "output_type": "display_data"
    },
    {
     "data": {
      "image/png": "[encoded data removed]",
      "text/plain": [
       "<Figure size 600x600 with 1 Axes>"
      ]
     },
     "metadata": {},
     "output_type": "display_data"
    }
   ],
   "source": [
    "import matplotlib.pyplot as plt\n",
    "\n",
    "plt.figure(figsize=(12,5))\n",
    "plt.subplot(1,2,1)\n",
    "x.hist(bins=int(max(x)) - int(min(x)), color='skyblue', edgecolor='magenta', grid=False, alpha=0.9)\n",
    "plt.title(f'Histogram of {col1}')\n",
    "plt.xlabel(f'{col1}')\n",
    "plt.ylabel('count')\n",
    "\n",
    "\n",
    "plt.subplot(1,2,2)\n",
    "y.hist(bins=int(max(y)) - int(min(y)), color='skyblue', edgecolor='magenta', grid=False, alpha=0.9)\n",
    "plt.title(f'Histogram of {col2}')\n",
    "plt.xlabel(f'{col2}')\n",
    "plt.ylabel('count')\n",
    "\n",
    "\n",
    "plt.tight_layout()\n",
    "plt.show()\n",
    "\n",
    "\n",
    "plt.figure(figsize=(6,6))\n",
    "plt.scatter(x, y)\n",
    "plt.title(f'Scatter plot: {col1} vs {col2}')\n",
    "plt.xlabel(f'{col1}')\n",
    "plt.ylabel(f'{col2}')\n",
    "plt.grid(True)\n",
    "plt.show()"
   ]
  },
  {
   "cell_type": "markdown",
   "id": "d4522fc6",
   "metadata": {},
   "source": [
    "## 3. Уравнение регрессии\n",
    "Построить уравнение регрессии по видам:\n",
    "1. линейная, $y=w_1 x + w_0$\n",
    "2. квадратичная, $y = w_2 x^2 + w_1 x + w_0$\n",
    "3. гиперболическая, $y = \\frac{w_1}{x} + w_0$ \n",
    "4. показательная, $y = w_1^x \\cdot w_0$"
   ]
  },
  {
   "cell_type": "code",
   "execution_count": 12,
   "id": "1f5f4fbe",
   "metadata": {},
   "outputs": [],
   "source": [
    "def solve_normal_eq(X, y):\n",
    "    XtX = X.T @ X\n",
    "    XtX_inv = np.linalg.inv(XtX)\n",
    "    w = XtX_inv @ X.T @ y\n",
    "    return w"
   ]
  },
  {
   "cell_type": "code",
   "execution_count": 13,
   "id": "650bbc2a",
   "metadata": {},
   "outputs": [
    {
     "name": "stdout",
     "output_type": "stream",
     "text": [
      "Линейная: y = w1*x + w0; w1=0.082253, w0=9.347007\n",
      "Квадратичная: y = w2*x^2 + w1*x + w0; w2=0.005344, w1=-1.771474, w0=169.689090\n",
      "Гиперболическая: y = w1/x + w0; w1=-2351.711253, w0=37.197016\n",
      "Показательная: y = w0 * w1^x; w1=1.003621, w0=12.475464\n"
     ]
    }
   ],
   "source": [
    "X_lin = np.vstack([x, np.ones_like(x)]).T\n",
    "w_lin = solve_normal_eq(X_lin, y)\n",
    "w1, w0 = w_lin[0], w_lin[1]\n",
    "print(f\"Линейная: y = w1*x + w0; w1={w1:.6f}, w0={w0:.6f}\")\n",
    "\n",
    "X_quad = np.vstack([x**2, x, np.ones_like(x)]).T\n",
    "w_quad = solve_normal_eq(X_quad, y)\n",
    "w2, w1_q, w0_q = w_quad[0], w_quad[1], w_quad[2]\n",
    "print(f\"Квадратичная: y = w2*x^2 + w1*x + w0; w2={w2:.6f}, w1={w1_q:.6f}, w0={w0_q:.6f}\")\n",
    "\n",
    "if not all(x):\n",
    "    print('Careful! There will be division by zero!')\n",
    "X_hyp = np.vstack([1.0 / x, np.ones_like(x)]).T\n",
    "w_hyp = solve_normal_eq(X_hyp, y)\n",
    "wh1, wh0 = w_hyp[0], w_hyp[1]\n",
    "print(f\"Гиперболическая: y = w1/x + w0; w1={wh1:.6f}, w0={wh0:.6f}\")\n",
    "\n",
    "ln_y = np.log(y)\n",
    "X_exp = np.vstack([x, np.ones_like(x)]).T\n",
    "w_exp = solve_normal_eq(X_exp, ln_y)\n",
    "w1_exp = np.exp(w_exp[0])\n",
    "w0_exp = np.exp(w_exp[1])\n",
    "print(f\"Показательная: y = w0 * w1^x; w1={w1_exp:.6f}, w0={w0_exp:.6f}\")\n"
   ]
  },
  {
   "cell_type": "code",
   "execution_count": 14,
   "id": "dd93d2a4",
   "metadata": {},
   "outputs": [
    {
     "data": {
      "image/png": "[encoded data removed]",
      "text/plain": [
       "<Figure size 800x600 with 1 Axes>"
      ]
     },
     "metadata": {},
     "output_type": "display_data"
    }
   ],
   "source": [
    "plt.figure(figsize=(8,6))\n",
    "plt.scatter(x, y, label='data')\n",
    "xs = np.linspace(min(x), max(x), 200)\n",
    "\n",
    "ys_lin = w1 * xs + w0\n",
    "plt.plot(xs, ys_lin, label='linear', linewidth=2)\n",
    "\n",
    "ys_quad = w2 * xs**2 + w1_q * xs + w0_q\n",
    "plt.plot(xs, ys_quad, label='quadratic', linewidth=2)\n",
    "\n",
    "ys_hyp = wh1 / xs + wh0\n",
    "plt.plot(xs, ys_hyp, label='hyperbolic', linewidth=2)\n",
    "\n",
    "ys_exp = w0_exp * (w1_exp ** xs)\n",
    "plt.plot(xs, ys_exp, label='exponential', linewidth=2)\n",
    "\n",
    "\n",
    "plt.legend()\n",
    "plt.title('Data + regression fits')\n",
    "plt.xlabel(f'{col1}')\n",
    "plt.ylabel(f'{col2}')\n",
    "plt.grid(True)\n",
    "plt.show()"
   ]
  },
  {
   "cell_type": "markdown",
   "id": "1c77b872",
   "metadata": {},
   "source": [
    "## 4. Проверка уравнения регрессии\n",
    "Для наилучшего и наихудшего уравнения регрессии проверить соотвествие моедли данным с помощью критерия Фишера"
   ]
  },
  {
   "cell_type": "code",
   "execution_count": 15,
   "id": "cd3b2b52",
   "metadata": {},
   "outputs": [
    {
     "name": "stdout",
     "output_type": "stream",
     "text": [
      "Модель: linear\n",
      "  R^2 = 0.037781\n",
      "  SSE = 241.324408\n",
      "  RMSE = 3.473647\n",
      "  MAE = 3.162986\n",
      "Модель: quadratic\n",
      "  R^2 = 0.055898\n",
      "  SSE = 236.780805\n",
      "  RMSE = 3.440791\n",
      "  MAE = 3.057937\n",
      "Модель: hyperbolic\n",
      "  R^2 = 0.034683\n",
      "  SSE = 242.101442\n",
      "  RMSE = 3.479234\n",
      "  MAE = 3.173088\n",
      "Модель: exponential\n",
      "  R^2 = 0.033619\n",
      "  SSE = 242.368462\n",
      "  RMSE = 3.481153\n",
      "  MAE = 3.158967\n"
     ]
    }
   ],
   "source": [
    "def regression_metrics(y_true, y_pred):\n",
    "    y_true = np.asarray(y_true)\n",
    "    y_pred = np.asarray(y_pred)\n",
    "    n = len(y_true)\n",
    "    SSE = float(np.sum((y_true - y_pred)**2))\n",
    "    SST = float(np.sum((y_true - np.mean(y_true))**2))\n",
    "    SSR = SST - SSE\n",
    "    R2 = SSR / SST if SST != 0 else float('nan')\n",
    "    MSE = SSE / n if n > 0 else float('nan')\n",
    "    RMSE = np.sqrt(MSE) if MSE >= 0 else float('nan')\n",
    "    MAE = float(np.mean(np.abs(y_true - y_pred)))\n",
    "    return {'SSE':SSE, 'SSR':SSR, 'SST':SST, 'R2':R2, 'MSE':MSE, 'RMSE':RMSE, 'MAE':MAE}\n",
    "\n",
    "\n",
    "metrics_results = {}\n",
    "yhat_lin = X_lin @ w_lin\n",
    "metrics_results['linear'] = regression_metrics(y, yhat_lin)\n",
    "\n",
    "yhat_quad = X_quad @ w_quad\n",
    "metrics_results['quadratic'] = regression_metrics(y, yhat_quad)\n",
    "\n",
    "yhat_hyp = X_hyp @ w_hyp\n",
    "metrics_results['hyperbolic'] = regression_metrics(y, yhat_hyp)\n",
    "\n",
    "yhat_exp = w0_exp * (w1_exp ** x)\n",
    "metrics_results['exponential'] = regression_metrics(y, yhat_exp)\n",
    "\n",
    "for name, m in metrics_results.items():\n",
    "    if m is None:\n",
    "        print(f\"Модель {name}: метрики не рассчитаны (недостаточно данных)\")\n",
    "        continue\n",
    "    print(f\"Модель: {name}\")\n",
    "    print(f\"  R^2 = {m['R2']:.6f}\")\n",
    "    print(f\"  SSE = {m['SSE']:.6f}\")\n",
    "    print(f\"  RMSE = {m['RMSE']:.6f}\")\n",
    "    print(f\"  MAE = {m['MAE']:.6f}\")"
   ]
  },
  {
   "cell_type": "markdown",
   "id": "f4aac171",
   "metadata": {},
   "source": [
    "*Следовательно, будем рассматривать квадратичную модель в качестве лучшей, а экспоненциальную - в качестве худшей*"
   ]
  },
  {
   "cell_type": "code",
   "execution_count": 16,
   "id": "ef380ffb",
   "metadata": {},
   "outputs": [],
   "source": [
    "import scipy.stats as stats"
   ]
  },
  {
   "cell_type": "code",
   "execution_count": 17,
   "id": "56547165",
   "metadata": {},
   "outputs": [],
   "source": [
    "def f_test(y, y_hat, p, alpha=0.05):\n",
    "    n = len(y)\n",
    "    y_mean = float(np.mean(y))\n",
    "    SSR = float(np.sum((y_hat - y_mean)**2))\n",
    "    SSE = float(np.sum((y - y_hat)**2))\n",
    "    if SSE == 0:\n",
    "        return float('inf'), SSR, SSE, None, None\n",
    "    MSR = SSR / p\n",
    "    MSE = SSE / (n - p - 1)\n",
    "    F = MSR / MSE\n",
    "    p_value = 1 - stats.f.cdf(F, p, n-p-1)\n",
    "    F_crit = stats.f.ppf(1 - alpha, p, n-p-1)\n",
    "    print(f'F_crit = {F_crit}, F = {F}')\n",
    "    return p_value, F > F_crit"
   ]
  },
  {
   "cell_type": "code",
   "execution_count": 18,
   "id": "19455489",
   "metadata": {},
   "outputs": [
    {
     "name": "stdout",
     "output_type": "stream",
     "text": [
      "F_crit = 3.5915305684750827, F = 0.5032635817886593\n",
      "Quadratic: p-value: 0.613283, is sagnificant: False\n"
     ]
    }
   ],
   "source": [
    "yhat_quad = X_quad @ w_quad\n",
    "p_value_quad, is_sagnificant_quad = f_test(y, yhat_quad, p=2)\n",
    "print(f\"Quadratic: p-value: {p_value_quad:.6f}, is sagnificant: {is_sagnificant_quad}\")"
   ]
  },
  {
   "cell_type": "code",
   "execution_count": 19,
   "id": "78ee693c",
   "metadata": {},
   "outputs": [
    {
     "name": "stdout",
     "output_type": "stream",
     "text": [
      "F_crit = 4.413873419170567, F = 1.065734643787749\n",
      "Quadratic: p-value: 0.315583, is sagnificant: False\n"
     ]
    }
   ],
   "source": [
    "yhat_exp = w0_exp * (w1_exp ** x)\n",
    "p_value_exp, is_sagnificant_exp = f_test(y, yhat_quad, p=1)\n",
    "print(f\"Quadratic: p-value: {p_value_exp:.6f}, is sagnificant: {is_sagnificant_exp}\")"
   ]
  },
  {
   "cell_type": "markdown",
   "id": "99218664",
   "metadata": {},
   "source": [
    "## 5. Выводы\n",
    "Сделать вывод по каждому пункту"
   ]
  },
  {
   "cell_type": "markdown",
   "id": "ed03a465",
   "metadata": {},
   "source": [
    "- *Расчет корреляций. Коэффициенты Фехнера(0.100000), Пирсона(0.194375), Спирмена(0.175023), Кенделла(0.122290) больше нуля, что говорит о том, что при увеличении роста человека, его возраст также растет. Однако абсолютные значения коэффициентов говорят о том, что даная связь крайне слабая (все коээфициенты по модулю меньше 0.2). Так, текущие данные не позволяют считать данную связь существенной.*\n",
    "\n",
    "- *Визуализация. Исходя из построенных гистограмм можно сказать, что явная связь между признаками не прослеживается.*\n",
    "\n",
    "- *Уравнения регрессии. Самой лучшей моделью оказалась квадратичная. Линейная, гиперболическая и экспоненциальная модели показывают похожие метрики. Однако даже лучшая модель (квадратичная) имеет показатель $R^2 = 0.055898$. То есть она объясняет только 5,6% наблюдемой дисперсии данных. Таким образом можно заключить, что ни одна из построенных моделей не может описать исходные данные.*\n",
    "\n",
    "-  *Проверка уравнения регрессии. F-тест Фишера в своей сути противопостовляет наши модели обычному предсказанию средего значения зависимой переменной. Выше было посчитано, что даже лучшая на первый взгляд модель не смогла отвергнуть нулевую гипотезу (p-value = 0.613). Это говорит о том, что полученный с помощью построенных моделей результат не является статистически значимым.*\n",
    "\n",
    "- *Таким образом можно заключить, что ни одна из моделей не дает статистически существенный результат о зависимости возраста человека от его роста. Также, малые по модулю значения коээфициентов корреляции сведетельствуют о том, что связь между признаками не существенна.*"
   ]
  }
 ],
 "metadata": {
  "kernelspec": {
   "display_name": ".venv",
   "language": "python",
   "name": "python3"
  },
  "language_info": {
   "codemirror_mode": {
    "name": "ipython",
    "version": 3
   },
   "file_extension": ".py",
   "mimetype": "text/x-python",
   "name": "python",
   "nbconvert_exporter": "python",
   "pygments_lexer": "ipython3",
   "version": "3.13.0"
  }
 },
 "nbformat": 4,
 "nbformat_minor": 5
}
